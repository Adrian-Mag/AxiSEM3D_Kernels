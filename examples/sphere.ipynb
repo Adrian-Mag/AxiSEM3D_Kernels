{
 "cells": [
  {
   "cell_type": "code",
   "execution_count": 1,
   "metadata": {},
   "outputs": [],
   "source": [
    "from axikernels.core.kernels import kernel\n",
    "from axikernels.core.handlers import element_output\n",
    "from axikernels.aux.mesher import SphereMesh, SliceMesh\n",
    "import matplotlib.pyplot as plt\n",
    "from scipy import stats\n",
    "import numpy as np"
   ]
  },
  {
   "cell_type": "code",
   "execution_count": 2,
   "metadata": {},
   "outputs": [],
   "source": [
    "forward_simulation = element_output.ElementOutput(path_to_element_output='data/EXAMPLE_FORWARD_iso/output/elements')\n",
    "backward_simulation = element_output.ElementOutput(path_to_element_output='data/backward_EXAMPLE_FORWARD_iso/output/elements')"
   ]
  },
  {
   "cell_type": "code",
   "execution_count": 3,
   "metadata": {},
   "outputs": [],
   "source": [
    "my_kernel = kernel.Kernel(forward_obj=forward_simulation, backward_obj=backward_simulation)"
   ]
  },
  {
   "cell_type": "code",
   "execution_count": 18,
   "metadata": {},
   "outputs": [],
   "source": [
    "mesh = SphereMesh(radius=6151000, n=10000, domain=[-45, 45, -30, 80])"
   ]
  },
  {
   "cell_type": "code",
   "execution_count": 19,
   "metadata": {},
   "outputs": [],
   "source": [
    "mesh.plot()"
   ]
  },
  {
   "cell_type": "code",
   "execution_count": 34,
   "metadata": {},
   "outputs": [
    {
     "name": "stderr",
     "output_type": "stream",
     "text": [
      "Loading and interpolating: 100%|█████████▉| 4321/4322 [00:07<00:00, 577.12point/s]\n",
      "Loading and interpolating: 100%|██████████| 4322/4322 [00:01<00:00, 2421.42point/s]\n",
      "Loading and interpolating: 100%|█████████▉| 4321/4322 [00:03<00:00, 1200.35point/s]\n",
      "Loading and interpolating: 100%|██████████| 4322/4322 [00:01<00:00, 4264.30point/s]\n"
     ]
    }
   ],
   "source": [
    "upper_points, lower_points = my_kernel._form_limit_points(mesh.points, 6151000)\n",
    "data = my_kernel.evaluate_vs(upper_points)"
   ]
  },
  {
   "cell_type": "code",
   "execution_count": 35,
   "metadata": {},
   "outputs": [],
   "source": [
    "mesh.plot_on_mesh(data, gamma=.1, remove_outliers=True)"
   ]
  }
 ],
 "metadata": {
  "kernelspec": {
   "display_name": "axikernels_test",
   "language": "python",
   "name": "python3"
  },
  "language_info": {
   "codemirror_mode": {
    "name": "ipython",
    "version": 3
   },
   "file_extension": ".py",
   "mimetype": "text/x-python",
   "name": "python",
   "nbconvert_exporter": "python",
   "pygments_lexer": "ipython3",
   "version": "3.12.2"
  }
 },
 "nbformat": 4,
 "nbformat_minor": 2
}
