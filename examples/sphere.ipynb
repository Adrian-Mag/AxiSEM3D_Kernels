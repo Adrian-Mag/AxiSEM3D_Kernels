{
 "cells": [
  {
   "cell_type": "code",
   "execution_count": 1,
   "metadata": {},
   "outputs": [],
   "source": [
    "from axikernels.core.kernels import kernel\n",
    "from axikernels.core.handlers import element_output\n",
    "from axikernels.aux.mesher import SphereMesh, SliceMesh\n",
    "import matplotlib.pyplot as plt\n",
    "from scipy import stats\n",
    "import numpy as np"
   ]
  },
  {
   "cell_type": "code",
   "execution_count": 2,
   "metadata": {},
   "outputs": [],
   "source": [
    "forward_simulation = element_output.ElementOutput(path_to_element_output='data/EXAMPLE_FORWARD_iso/output/elements')\n",
    "backward_simulation = element_output.ElementOutput(path_to_element_output='data/backward_EXAMPLE_FORWARD_iso_PcP/output/elements')"
   ]
  },
  {
   "cell_type": "code",
   "execution_count": 3,
   "metadata": {},
   "outputs": [],
   "source": [
    "my_kernel = kernel.Kernel(forward_obj=forward_simulation, backward_obj=backward_simulation)"
   ]
  },
  {
   "cell_type": "code",
   "execution_count": 4,
   "metadata": {},
   "outputs": [],
   "source": [
    "mesh = SphereMesh(radius=5971000, n=3000, domain=[-45, 45, -30, 80])\n",
    "mesh.plot()"
   ]
  },
  {
   "cell_type": "code",
   "execution_count": 5,
   "metadata": {},
   "outputs": [
    {
     "name": "stderr",
     "output_type": "stream",
     "text": [
      "Loading and interpolating: 100%|██████████| 1297/1297 [00:01<00:00, 1250.76point/s]\n",
      "Loading and interpolating: 100%|██████████| 1297/1297 [00:00<00:00, 4139.15point/s]\n",
      "Loading and interpolating: 100%|██████████| 1297/1297 [00:01<00:00, 1259.37point/s]\n",
      "Loading and interpolating: 100%|██████████| 1297/1297 [00:00<00:00, 4179.55point/s]\n",
      "Loading and interpolating: 100%|██████████| 1297/1297 [00:00<00:00, 1574.39point/s]\n",
      "Loading and interpolating: 100%|██████████| 1297/1297 [00:00<00:00, 4184.65point/s]\n",
      "Loading and interpolating: 100%|██████████| 1297/1297 [00:01<00:00, 1280.70point/s]\n",
      "Loading and interpolating: 100%|██████████| 1297/1297 [00:00<00:00, 4198.59point/s]\n"
     ]
    }
   ],
   "source": [
    "data = my_kernel.evaluate_K_dn(mesh.points, radius=mesh.radius)\n",
    "mesh.plot_on_mesh(data, gamma=.1, remove_outliers=True)"
   ]
  },
  {
   "cell_type": "code",
   "execution_count": 6,
   "metadata": {},
   "outputs": [
    {
     "name": "stderr",
     "output_type": "stream",
     "text": [
      "/disks/data/PhD/AxiSEM3D_Kernels/axikernels/aux/mesher.py:335: PerformanceWarning: \n",
      "your performance may suffer as PyTables will pickle object types that it cannot\n",
      "map directly to c-types [inferred_type->mixed-integer,key->values] [items->None]\n",
      "\n",
      "  metadata.to_hdf(filename + '.h5', key='metadata', mode='a')\n"
     ]
    }
   ],
   "source": [
    "mesh.save_data(data=data, filename='400_dV_PcP')"
   ]
  },
  {
   "cell_type": "code",
   "execution_count": 7,
   "metadata": {},
   "outputs": [],
   "source": [
    "new_mesh = SphereMesh(data_frame_path='400_dV_PcP.h5')\n",
    "new_mesh.plot_on_mesh(remove_outliers=True, gamma=1)"
   ]
  }
 ],
 "metadata": {
  "kernelspec": {
   "display_name": "axikernels_test",
   "language": "python",
   "name": "python3"
  },
  "language_info": {
   "codemirror_mode": {
    "name": "ipython",
    "version": 3
   },
   "file_extension": ".py",
   "mimetype": "text/x-python",
   "name": "python",
   "nbconvert_exporter": "python",
   "pygments_lexer": "ipython3",
   "version": "3.12.2"
  }
 },
 "nbformat": 4,
 "nbformat_minor": 2
}
