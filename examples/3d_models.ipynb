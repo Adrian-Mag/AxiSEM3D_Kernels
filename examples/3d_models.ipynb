{
 "cells": [
  {
   "cell_type": "code",
   "execution_count": 1,
   "metadata": {},
   "outputs": [],
   "source": [
    "import netCDF4 as nc"
   ]
  },
  {
   "cell_type": "code",
   "execution_count": 2,
   "metadata": {},
   "outputs": [],
   "source": [
    "import numpy as np\n",
    "\n",
    "x = np.linspace(-6371000, 6371000, 100)\n",
    "y = x.copy()\n",
    "z = x.copy()\n",
    "\n",
    "X, Y, Z = np.meshgrid(x, y, z)\n",
    "\n",
    "# Calculate the distance from the center for each point\n",
    "distance_from_center = np.sqrt(X**2 + Y**2 + Z**2)\n",
    "\n",
    "# Create the VP, VS, and RHO arrays\n",
    "normalized_X = X / 6371000\n",
    "normalized_Y = Y / 6371000\n",
    "normalized_Z = Z / 6371000\n",
    "x_coord, y_coord, z_coord = (0.5, 0, 0)\n",
    "x_coord2, y_coord2, z_coord2 = (0, 0.5, 0)\n",
    "x_coord3, y_coord3, z_coord3 = (0, 0, -0.5)\n",
    "sigma = 0.3\n",
    "VP = np.exp(-(((normalized_X - x_coord)/sigma)**2 +\n",
    "              ((normalized_Y - y_coord)/sigma)**2 +\n",
    "              ((normalized_Z - z_coord)/sigma)**2)) + \\\n",
    "              np.exp(-(((normalized_X - x_coord2)/sigma)**2 +\n",
    "              ((normalized_Y - y_coord2)/sigma)**2 +\n",
    "              ((normalized_Z - z_coord2)/sigma)**2)) - \\\n",
    "              np.exp(-(((normalized_X - x_coord3)/sigma)**2 +\n",
    "              ((normalized_Y - y_coord3)/sigma)**2 +\n",
    "              ((normalized_Z - z_coord3)/sigma)**2))\n",
    "\n",
    "VS = np.ones(X.shape)\n",
    "RHO = np.ones(X.shape)\n",
    "\n",
    "# Set the values to 0 where the distance from the center is greater than 6371000\n",
    "VP[distance_from_center > 6371000] = 0\n",
    "VS[distance_from_center > 6371000] = 0\n",
    "RHO[distance_from_center > 6371000] = 0\n",
    "\n",
    "\n",
    "radius = np.sqrt(X**2 + Y**2 + Z**2)\n",
    "latitude = np.arcsin(Z / radius)  # in radians\n",
    "longitude = np.arctan2(Y, X)  # in radians\n"
   ]
  },
  {
   "cell_type": "code",
   "execution_count": 3,
   "metadata": {},
   "outputs": [],
   "source": [
    "from mayavi import mlab\n",
    "\n",
    "# Create a new figure\n",
    "mlab.figure(size=(600, 600))\n",
    "\n",
    "# Create a scalar field\n",
    "src = mlab.pipeline.scalar_field(VP)\n",
    "\n",
    "# Create a cut plane through the scalar field\n",
    "cut_plane = mlab.pipeline.scalar_cut_plane(src, plane_orientation='z_axes')\n",
    "\n",
    "# Set the view\n",
    "mlab.view(azimuth=0, elevation=90)\n",
    "\n",
    "# Show the result\n",
    "mlab.show()"
   ]
  },
  {
   "cell_type": "code",
   "execution_count": 4,
   "metadata": {},
   "outputs": [],
   "source": [
    "import netCDF4 as nc\n",
    "import numpy as np\n",
    "\n",
    "# Create a new NetCDF file\n",
    "rootgrp = nc.Dataset(\"example.nc\", \"w\", format=\"NETCDF4\")\n",
    "\n",
    "# Define the dimensions\n",
    "dim_radius = rootgrp.createDimension(\"dim_radius\", 191)\n",
    "dim_latitude = rootgrp.createDimension(\"dim_latitude\", 676)\n",
    "dim_longitude = rootgrp.createDimension(\"dim_longitude\", 676)\n",
    "\n",
    "# Define the variables\n",
    "radius = rootgrp.createVariable(\"radius\", \"f4\", (\"dim_radius\",))\n",
    "latitude = rootgrp.createVariable(\"latitude\", \"f4\", (\"dim_latitude\",))\n",
    "longitude = rootgrp.createVariable(\"longitude\", \"f4\", (\"dim_longitude\",))\n",
    "VP = rootgrp.createVariable(\"VP\", \"f4\", (\"dim_radius\", \"dim_latitude\", \"dim_longitude\"))\n",
    "VS = rootgrp.createVariable(\"VS\", \"f4\", (\"dim_radius\", \"dim_latitude\", \"dim_longitude\"))\n",
    "RHO = rootgrp.createVariable(\"RHO\", \"f4\", (\"dim_radius\", \"dim_latitude\", \"dim_longitude\"))\n",
    "\n",
    "# Assign values to the variables\n",
    "radius[:] = np.arange(191)\n",
    "latitude[:] = np.arange(676)\n",
    "longitude[:] = np.arange(676)\n",
    "VP[:] = np.random.rand(191, 676, 676)\n",
    "VS[:] = np.random.rand(191, 676, 676)\n",
    "RHO[:] = np.random.rand(191, 676, 676)\n",
    "\n",
    "# Close the NetCDF file\n",
    "rootgrp.close()"
   ]
  }
 ],
 "metadata": {
  "kernelspec": {
   "display_name": "axikernels_test",
   "language": "python",
   "name": "python3"
  },
  "language_info": {
   "codemirror_mode": {
    "name": "ipython",
    "version": 3
   },
   "file_extension": ".py",
   "mimetype": "text/x-python",
   "name": "python",
   "nbconvert_exporter": "python",
   "pygments_lexer": "ipython3",
   "version": "3.12.2"
  }
 },
 "nbformat": 4,
 "nbformat_minor": 2
}
