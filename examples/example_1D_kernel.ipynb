{
 "cells": [
  {
   "cell_type": "code",
   "execution_count": 1,
   "metadata": {},
   "outputs": [],
   "source": [
    "from axikernels.core.handlers import element_output\n",
    "from axikernels.core.kernels import objective_function, kernel\n",
    "from axikernels.aux import mesher\n",
    "import numpy as np\n",
    "import matplotlib.pyplot as plt"
   ]
  },
  {
   "cell_type": "markdown",
   "metadata": {},
   "source": [
    "# Sensitivity kernel based on 1D background Earth model\n",
    "\n",
    "In this notebook we will compute a simple P wave sensitivity kernel (banana doughnut).\n",
    "\n",
    "## Run forward simulation \n",
    "\n",
    "The first step is to set up a forward simulation with element output:\n",
    "\n",
    "1. We use an already existing mesh suitable for 50s period simulations based on the prem isotropic and elastic model (prem_iso_elastic_50s.e). \n",
    "2. For the inparam.nr.yaml we just need to make sure to use a constant nr=5 in the whole domain since we are doing a 1D simulation (this is where the speed-up happens compared to other full 3D wave solvers).\n",
    "3. For the source we can use whatever we like. In this case I used an explosion source. \n",
    "4. Finally, in the inparam.output.yaml we will put 1 element group for the mantle, 1 for the outer core, and 1 for the inner core. Even though the simulation runs using 16 GLL points on each element, we will output only 9 to save some disk space. \n",
    "5. Run axisem3d (see at the end details about computational costs)\n",
    "\n",
    "After running the simulation, we create an *ElementOutput* object to hold the simulation information."
   ]
  },
  {
   "cell_type": "code",
   "execution_count": 2,
   "metadata": {},
   "outputs": [],
   "source": [
    "forward_simulation = element_output.ElementOutput(path_to_element_output='data/1D_KERNEL_EXAMPLE/output/elements')"
   ]
  },
  {
   "cell_type": "markdown",
   "metadata": {},
   "source": [
    "## Run Backward simulation\n",
    "\n",
    "The next step depends on what kind of objective function we want. The most popoular objective function is:\n",
    "$$\n",
    "\\chi = \\frac{1}{2}\\mathcal{T}^2\n",
    "$$\n",
    "where $\\mathcal{T}$ is the cross-correlation time shift between some observed displacement $\\bm{u}(m;\\bm{r}_0,t)$ (based on the real or a synthetic earth model $m$) and the forward displacement $\\bm{u}_0(m_0;\\bm{r}_0,t)$ at the same receiver location $\\bm{r}_0$ (computed at the reference Earth $m_0$). We will use this objective as well:"
   ]
  },
  {
   "cell_type": "code",
   "execution_count": 3,
   "metadata": {},
   "outputs": [],
   "source": [
    "time_shift_objective = objective_function.XObjectiveFunction(forward_simulation)"
   ]
  },
  {
   "cell_type": "markdown",
   "metadata": {},
   "source": [
    "The backward field is computed over the same mesh as the forward field, the only difference is the source, which for the backward simulation is given by:\n",
    "$$\n",
    "f^{\\dagger} = \\frac{\\mathcal{T} W[\\dot{\\bm{u}}] }{\\left| W[\\dot{\\bm{u}}] \\right|^2_2}\n",
    "$$\n",
    "Here $\\dot{\\bm{u}}$ is the time derivative of the forward displacement field evaluated at the location of the receiver. $W$ is the operator that represents \"time windowing\", which is needed if we want to isolate a certain phase. Mathematically, the backward field would be computed by solving the same wave equation as for the forward simulation but backwards in time and with $f^{\\dagger}$ replacing the earthquake source. \n",
    "\n",
    "The *.compute_backward_field()* method of our XObjectiveFunction instance will:\n",
    "1. Create a new simulation directory for the backward simulation \n",
    "2. Create an adjoint source and save it in the input directory of the backward simulation directory as three STF functions.\n",
    "3. Run the backward simulation\n",
    "\n",
    "This method needs the following inputs:\n",
    "1. Time shift $\\mathcal{T}$ in seconds\n",
    "2. The location of the reciever (in form [radius, latitude, longitude]) in meters and degrees.\n",
    "3. Left and right time limits (in seconds) of the window containing the desired phase \n",
    "4. The number of cores to be used for the AxiSEM3D simulation\n",
    "5. The channel on which we observe the forward wavefield at the receiver.\n",
    "\n",
    "In this case we will isolate a P400P wave  "
   ]
  },
  {
   "cell_type": "code",
   "execution_count": 4,
   "metadata": {},
   "outputs": [],
   "source": [
    "receiver_point = [6371000, 0, 40]\n",
    "window = [450-25, 450+25]"
   ]
  },
  {
   "cell_type": "code",
   "execution_count": 5,
   "metadata": {},
   "outputs": [],
   "source": [
    "%matplotlib inline\n",
    "time_shift_objective.compute_backward_field(tau=2, receiver_point=receiver_point,\n",
    "                                             window=window, cores=16, channel = 'UZ')"
   ]
  },
  {
   "cell_type": "markdown",
   "metadata": {},
   "source": [
    "Now we should see a new directory called \"backward_1D_KERNEL_EXAMPLE\". We will load this simulation and use it as an argument together with the foward simulation to form a \"Kernel\" object. While the XObjectiveFunction class deals with creating the adjoint wavefield, the Kernel class deals with computing the actual kernels."
   ]
  },
  {
   "cell_type": "code",
   "execution_count": 6,
   "metadata": {},
   "outputs": [],
   "source": [
    "backward_simulation = element_output.ElementOutput(path_to_element_output='data/backward_1D_KERNEL_EXAMPLE/output/elements')\n",
    "ker = kernel.Kernel(forward_simulation, backward_simulation)"
   ]
  },
  {
   "cell_type": "markdown",
   "metadata": {},
   "source": [
    "With the forward and backward data at hand, we can compute volumetric or geometric sensitivity kernels. Volumetric sensitivity kernels can be visualized both on a slice through the Earth, or on a spherical shell centered on the Earth's center. \n",
    "\n",
    "In the *mesher* module there are two classes that deal with slices and shells. The *SliceMesh* class takes in the following arguments:\n",
    "1. **point1, point2**: these are in the [rad, lat lon] format where radius is in the same units as used in the basemodel (ideal to stick with SI units everywhere) and the latitude and longitude are by default in degree (but passing the argument *degrees=False* will switch to radians). These two points, together with the Earth's center, determine a great circle disk/slice through the Earth on which the kernel will be computed.\n",
    "2. **domains**: this has the form [[rad_min, rad_max, theta_min, theta_max],[rad_min, rad_max, theta_min, theta_max],...]. By default the slice contains the full great circle disk, but if we want, we can restrict it to one or more regions described by a min and max radius, and a min and max angle from point1 in the direction towards point2. Obviously, the kernel can only be computed in regions where we have an output from the simulation. For example, if in the inparam.output.yaml file we specified only the mantle region as an element group, then the kernel will be computed only in that region intersected with the regions specified in the domains argument.\n",
    "3. **resolution**: The mesh points on the slice are placed in a uniform grid of size *resolution* X *resolution*\n"
   ]
  },
  {
   "cell_type": "code",
   "execution_count": 7,
   "metadata": {},
   "outputs": [],
   "source": [
    "source_location = [forward_simulation.Domain_Radius - forward_simulation.source_depth,\n",
    "                    forward_simulation.source_lat,\n",
    "                    forward_simulation.source_lon]\n",
    "receiver_point = [6371000, 0, 40]\n",
    "domains = [[4000000, 6371000, -np.pi, np.pi]]\n",
    "slice = mesher.SliceMesh(point1=source_location,\n",
    "                     point2=receiver_point,\n",
    "                     domains=domains,\n",
    "                     resolution=300)\n"
   ]
  },
  {
   "cell_type": "markdown",
   "metadata": {},
   "source": [
    "When the mesh is created, the coordinates of the points found within the specified domains will be saved in the *.points* attribute. Thse points can then be passed to any *.evaluate_...() * method to compute the sensitivity at those points. Currently there are the following volumetric kernel methods:\n",
    "\n",
    "---------key-------method------------------\n",
    "- 'rho_0': self.evaluate_rho_0,\n",
    "- 'lambda': self.evaluate_lambda,\n",
    "- 'mu': self.evaluate_mu,\n",
    "- 'rho': self.evaluate_rho,\n",
    "- 'vp': self.evaluate_vp,\n",
    "- 'vs': self.evaluate_vs,\n",
    "\n",
    "So let's say we want to compute the vp sensitivity kernel on the mesh computed above (decrease the resolution or restrict your domains if you want a faster computation):"
   ]
  },
  {
   "cell_type": "code",
   "execution_count": 8,
   "metadata": {},
   "outputs": [
    {
     "name": "stderr",
     "output_type": "stream",
     "text": [
      "Loading and interpolating: 100%|██████████| 42488/42488 [00:07<00:00, 5833.95point/s]\n",
      "Loading and interpolating: 100%|██████████| 42488/42488 [00:10<00:00, 4168.59point/s]\n"
     ]
    },
    {
     "data": {
      "text/plain": [
       "'\\n# or alternatively using:\\nsensitivity_kernel = ker.kernel_types[parameter](slice.points) '"
      ]
     },
     "execution_count": 8,
     "metadata": {},
     "output_type": "execute_result"
    }
   ],
   "source": [
    "parameter = 'vp'\n",
    "sensitivity_kernel_slice = ker.evaluate_vp(slice.points)\n",
    "\"\"\"\n",
    "# or alternatively using:\n",
    "sensitivity_kernel = ker.kernel_types[parameter](slice.points) \"\"\""
   ]
  },
  {
   "cell_type": "markdown",
   "metadata": {},
   "source": [
    "The resulting sensitivity data can be then passed in the *.plot_on_mesh()* method of the mesh to have it plotted. *high_range* stretches the sensitivity values to show the weaker signals in the kernel. This is often needed since the sensitivity kernels take very large values near the source."
   ]
  },
  {
   "cell_type": "code",
   "execution_count": 9,
   "metadata": {},
   "outputs": [
    {
     "data": {
      "image/png": "[encoded data removed]",
      "text/plain": [
       "<Figure size 640x480 with 2 Axes>"
      ]
     },
     "metadata": {},
     "output_type": "display_data"
    }
   ],
   "source": [
    "slice.plot_on_mesh(data=sensitivity_kernel_slice, high_range=0.1)"
   ]
  },
  {
   "cell_type": "markdown",
   "metadata": {},
   "source": [
    "Lastly, we can save this data using:"
   ]
  },
  {
   "cell_type": "code",
   "execution_count": 10,
   "metadata": {},
   "outputs": [
    {
     "name": "stderr",
     "output_type": "stream",
     "text": [
      "/disks/data/PhD/AxiSEM3D_Kernels/axikernels/aux/mesher.py:194: PerformanceWarning: \n",
      "your performance may suffer as PyTables will pickle object types that it cannot\n",
      "map directly to c-types [inferred_type->mixed-integer,key->values] [items->None]\n",
      "\n",
      "  metadata.to_hdf(filename + '.h5', key='metadata', mode='a')\n"
     ]
    }
   ],
   "source": [
    "slice.save_data(data=sensitivity_kernel_slice, filename=parameter+'_P400P')"
   ]
  },
  {
   "cell_type": "markdown",
   "metadata": {},
   "source": [
    "The data that has been saved in this manner can be easily plotted later by creating a mesh with the saved file:"
   ]
  },
  {
   "cell_type": "code",
   "execution_count": 11,
   "metadata": {},
   "outputs": [
    {
     "data": {
      "image/png": "[encoded data removed]",
      "text/plain": [
       "<Figure size 640x480 with 2 Axes>"
      ]
     },
     "metadata": {},
     "output_type": "display_data"
    }
   ],
   "source": [
    "saved_mesh = mesher.SliceMesh('vp_P400P.h5')\n",
    "saved_mesh.plot_on_mesh(high_range=0.05)"
   ]
  },
  {
   "cell_type": "markdown",
   "metadata": {},
   "source": [
    "Alternatively, we can compute the sensitivity kernel on a spherical shell. The *SphereMesh* class produces a spherical fibonacci mesh with 2n points and a radius given by the user"
   ]
  },
  {
   "cell_type": "code",
   "execution_count": 12,
   "metadata": {},
   "outputs": [],
   "source": [
    "shell = mesher.SphereMesh(radius=5971000, n=30000)\n",
    "shell.plot()"
   ]
  },
  {
   "cell_type": "markdown",
   "metadata": {},
   "source": [
    "The points saved in this mesher are simply [lat, lon] in radians, so we must add the radius to obtain the full points. "
   ]
  },
  {
   "cell_type": "code",
   "execution_count": 13,
   "metadata": {},
   "outputs": [
    {
     "name": "stderr",
     "output_type": "stream",
     "text": [
      "Loading and interpolating: 100%|██████████| 60000/60000 [00:15<00:00, 3937.53point/s]\n",
      "Loading and interpolating: 100%|██████████| 60000/60000 [00:12<00:00, 4733.25point/s]\n"
     ]
    }
   ],
   "source": [
    "points = np.insert(np.array(shell.points), 0, 5971000, axis=1)\n",
    "sensitivity_kernel_shell = ker.evaluate_vp(points)"
   ]
  },
  {
   "cell_type": "markdown",
   "metadata": {},
   "source": [
    "Then we can plot the kernel on the shell"
   ]
  },
  {
   "cell_type": "code",
   "execution_count": 14,
   "metadata": {},
   "outputs": [],
   "source": [
    "shell.plot_on_mesh(data=sensitivity_kernel_shell)"
   ]
  },
  {
   "cell_type": "markdown",
   "metadata": {},
   "source": [
    "And save it"
   ]
  },
  {
   "cell_type": "code",
   "execution_count": 15,
   "metadata": {},
   "outputs": [
    {
     "name": "stderr",
     "output_type": "stream",
     "text": [
      "/disks/data/PhD/AxiSEM3D_Kernels/axikernels/aux/mesher.py:335: PerformanceWarning: \n",
      "your performance may suffer as PyTables will pickle object types that it cannot\n",
      "map directly to c-types [inferred_type->mixed-integer,key->values] [items->None]\n",
      "\n",
      "  metadata.to_hdf(filename + '.h5', key='metadata', mode='a')\n"
     ]
    }
   ],
   "source": [
    "shell.save_data(data=sensitivity_kernel_shell, filename='shell_vp_P400P')"
   ]
  },
  {
   "cell_type": "markdown",
   "metadata": {},
   "source": [
    "And reload it"
   ]
  },
  {
   "cell_type": "code",
   "execution_count": 16,
   "metadata": {},
   "outputs": [],
   "source": [
    "new_mesh = mesher.SphereMesh('shell_vp_P400P.h5')\n",
    "new_mesh.plot_on_mesh(remove_outliers=True, gamma=0.05)"
   ]
  },
  {
   "cell_type": "code",
   "execution_count": 19,
   "metadata": {},
   "outputs": [
    {
     "name": "stderr",
     "output_type": "stream",
     "text": [
      "Loading and interpolating: 100%|██████████| 60000/60000 [00:16<00:00, 3600.00point/s]\n",
      "Loading and interpolating: 100%|██████████| 60000/60000 [00:14<00:00, 4179.32point/s]\n",
      "Loading and interpolating: 100%|██████████| 60000/60000 [00:16<00:00, 3597.64point/s]\n",
      "Loading and interpolating: 100%|██████████| 60000/60000 [00:14<00:00, 4216.83point/s]\n",
      "Loading and interpolating: 100%|██████████| 60000/60000 [00:15<00:00, 3928.71point/s]\n",
      "Loading and interpolating: 100%|██████████| 60000/60000 [00:13<00:00, 4340.73point/s]\n",
      "Loading and interpolating: 100%|██████████| 60000/60000 [00:17<00:00, 3484.96point/s]\n",
      "Loading and interpolating: 100%|██████████| 60000/60000 [00:14<00:00, 4169.05point/s]\n",
      "Loading and interpolating: 100%|██████████| 60000/60000 [00:15<00:00, 3963.76point/s]\n",
      "Loading and interpolating: 100%|██████████| 60000/60000 [00:13<00:00, 4591.21point/s]\n",
      "Loading and interpolating: 100%|██████████| 60000/60000 [00:17<00:00, 3472.30point/s]\n",
      "Loading and interpolating: 100%|██████████| 60000/60000 [00:14<00:00, 4135.91point/s]\n",
      "Loading and interpolating: 100%|██████████| 60000/60000 [00:28<00:00, 2103.12point/s]\n",
      "Loading and interpolating: 100%|██████████| 60000/60000 [00:22<00:00, 2640.99point/s]\n",
      "Loading and interpolating: 100%|██████████| 60000/60000 [00:15<00:00, 3945.20point/s]\n",
      "Loading and interpolating: 100%|██████████| 60000/60000 [00:12<00:00, 4621.16point/s]\n",
      "Loading and interpolating: 100%|██████████| 60000/60000 [00:17<00:00, 3460.29point/s]\n",
      "Loading and interpolating: 100%|██████████| 60000/60000 [00:14<00:00, 4167.61point/s]\n",
      "Loading and interpolating: 100%|██████████| 60000/60000 [00:28<00:00, 2116.35point/s]\n",
      "Loading and interpolating: 100%|██████████| 60000/60000 [00:22<00:00, 2657.46point/s]\n"
     ]
    }
   ],
   "source": [
    "sensitivity_kernel_shell_400km = ker.evaluate_Kd(shell.points, 5971000)"
   ]
  },
  {
   "cell_type": "code",
   "execution_count": 20,
   "metadata": {},
   "outputs": [],
   "source": [
    "shell.plot_on_mesh(data=sensitivity_kernel_shell_400km)"
   ]
  },
  {
   "cell_type": "markdown",
   "metadata": {},
   "source": [
    "## Simulation costs\n",
    "\n",
    "### 1D_KERNEL_EXAMPLE\n",
    "- Max RAM usage ~ 12 GB\n",
    "- Disk usage ~ 5.8 GB\n",
    "- Time ~ 0.0576 CPUh/ (13s on high end cpu)\n",
    "\n",
    "### backward_1D_KERNEL_EXAMPLE\n",
    "- Max RAM usage ~ 10 GB\n",
    "- Disk usage ~ 4.2 GB\n",
    "- Time ~ 0.044 CPUh/ (10s on high end cpu)"
   ]
  }
 ],
 "metadata": {
  "kernelspec": {
   "display_name": "axikernels_test",
   "language": "python",
   "name": "python3"
  },
  "language_info": {
   "codemirror_mode": {
    "name": "ipython",
    "version": 3
   },
   "file_extension": ".py",
   "mimetype": "text/x-python",
   "name": "python",
   "nbconvert_exporter": "python",
   "pygments_lexer": "ipython3",
   "version": "3.12.2"
  }
 },
 "nbformat": 4,
 "nbformat_minor": 2
}
