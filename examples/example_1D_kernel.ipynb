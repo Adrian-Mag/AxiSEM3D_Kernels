{
 "cells": [
  {
   "cell_type": "code",
   "execution_count": 1,
   "metadata": {},
   "outputs": [],
   "source": [
    "import obspy\n",
    "from obspy.clients.fdsn import Client\n",
    "import numpy as np\n",
    "import matplotlib.pyplot as plt\n",
    "from axikernels.core.handlers import element_output\n",
    "client = Client(\"IRIS\")"
   ]
  },
  {
   "cell_type": "markdown",
   "metadata": {},
   "source": [
    "## Importing real data"
   ]
  },
  {
   "cell_type": "code",
   "execution_count": 2,
   "metadata": {},
   "outputs": [],
   "source": [
    "# Import earthquake data\n",
    "start_time = obspy.UTCDateTime(\"2013-05-24T05:44:48\")  # Replace with the start time of the earthquake\n",
    "end_time = obspy.UTCDateTime(\"2013-05-24T05:44:50\")  # Replace with the end time of the earthquake\n",
    "event = client.get_events(starttime=start_time, endtime=end_time, minmagnitude=8.3)\n",
    "# Import station data\n",
    "inventory = client.get_stations(network=\"BK\", station=\"CMB\", channel=\"BH*\", location='00', level=\"response\")\n",
    "# Import wavefield data\n",
    "real_data = obspy.read('data/2013-05-24-mw83-sea-of-okhotsk.miniseed')"
   ]
  },
  {
   "cell_type": "code",
   "execution_count": 3,
   "metadata": {},
   "outputs": [
    {
     "name": "stderr",
     "output_type": "stream",
     "text": [
      "can't invoke \"event\" command: application has been destroyed\n",
      "    while executing\n",
      "\"event generate $w <<ThemeChanged>>\"\n",
      "    (procedure \"ttk::ThemeChanged\" line 6)\n",
      "    invoked from within\n",
      "\"ttk::ThemeChanged\"\n"
     ]
    }
   ],
   "source": [
    "%matplotlib inline\n",
    "# Select specific station\n",
    "selected_stream = real_data.select(station='CMB')\n",
    "selected_stream.plot()\n",
    "plt.show()"
   ]
  },
  {
   "cell_type": "code",
   "execution_count": 4,
   "metadata": {},
   "outputs": [],
   "source": [
    "# Process the station to match the period of the synthetic data\n",
    "selected_stream.remove_response(inventory=inventory,\n",
    "                                pre_filt=[1e-4, 1e-3, 0.02, 0.05],\n",
    "                                output=\"DISP\", water_level=60,\n",
    "                                plot=True)\n",
    "selected_stream.detrend()\n",
    "selected_stream.filter('bandpass', freqmin=0.001, freqmax=0.02)\n",
    "selected_stream.plot()\n",
    "plt.show()"
   ]
  },
  {
   "cell_type": "markdown",
   "metadata": {},
   "source": [
    "## Reproducing the earthquake\n",
    "\n",
    "We first try to reproduce the wavefield of the real even in a 1D Earth as well as we can. \n",
    "\n",
    "1. We use the *prem_ani.bm* basemodel file to create a mesh (anisotropic,   anelastic, but 1D) using the command:\n",
    "\n",
    "    ```bash\n",
    "    python -m salvus_mesh_lite.interface AxiSEM -o prem_ani_50s.e --overwrite_file --basic.model model.bm --basic.period 50\n",
    "    ```\n",
    "    Then we make sure to use this new mesh in the inparam.model.yaml file.\n",
    "\n",
    "2. For the inparam.nr.yaml we just need to make sure to use a constant nr=5 in the whole domain since we are doing a 1D simulation (this is where the speed-up happens compared to other full 3D wave solvers).\n",
    "3. For the source we use the coordinates, depth, abd moment tensor that is found on IRIS. This should give a good enough approximation of the source for our purposes. \n",
    "4. Finally, in the inparam.output.yaml we will put 3 element groups: for mantle, outer core (liquid), and inner core. Even though the simulation runs using 16 GLL points on each elements, we will output only 9 for saving memory. \n",
    "5. Run axisem3d (the size of the output file will be about 39GB! And the duration is about 0.8 cpu hours on a high end cpu. Maximum RAM usage is about 8GB. Make sure you have sufficient overhead for memory and disk.)\n",
    "\n"
   ]
  },
  {
   "cell_type": "code",
   "execution_count": null,
   "metadata": {},
   "outputs": [
    {
     "ename": "SyntaxError",
     "evalue": "invalid syntax (2926667215.py, line 1)",
     "output_type": "error",
     "traceback": [
      "\u001b[0;36m  Cell \u001b[0;32mIn[42], line 1\u001b[0;36m\u001b[0m\n\u001b[0;31m    forward_1D_simulation =\u001b[0m\n\u001b[0m                            ^\u001b[0m\n\u001b[0;31mSyntaxError\u001b[0m\u001b[0;31m:\u001b[0m invalid syntax\n"
     ]
    }
   ],
   "source": [
    "forward_1D_simulation = element_output.ElementOutput('data/1D_SIMULATION/output/elements')"
   ]
  }
 ],
 "metadata": {
  "kernelspec": {
   "display_name": "axikernels_test",
   "language": "python",
   "name": "python3"
  },
  "language_info": {
   "codemirror_mode": {
    "name": "ipython",
    "version": 3
   },
   "file_extension": ".py",
   "mimetype": "text/x-python",
   "name": "python",
   "nbconvert_exporter": "python",
   "pygments_lexer": "ipython3",
   "version": "3.12.2"
  }
 },
 "nbformat": 4,
 "nbformat_minor": 2
}
