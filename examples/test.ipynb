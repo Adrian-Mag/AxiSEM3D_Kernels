{
 "cells": [
  {
   "cell_type": "code",
   "execution_count": 1,
   "metadata": {},
   "outputs": [],
   "source": [
    "import netCDF4 as nc\n",
    "from axikernels.core.handlers.element_output import ElementOutput\n",
    "import yaml\n",
    "from scipy.interpolate import interp1d, RegularGridInterpolator\n",
    "import numpy as np"
   ]
  },
  {
   "cell_type": "code",
   "execution_count": 2,
   "metadata": {},
   "outputs": [],
   "source": [
    "simulation = ElementOutput('data/3D_KERNEL_EXAMPLE_30s/output/elements')"
   ]
  },
  {
   "cell_type": "code",
   "execution_count": 12,
   "metadata": {},
   "outputs": [
    {
     "data": {
      "text/plain": [
       "array([3927.93594269, 6002.45342286, 6605.6751051 ,    0.        ])"
      ]
     },
     "execution_count": 12,
     "metadata": {},
     "output_type": "execute_result"
    }
   ],
   "source": [
    "simulation._load_material_property(points = [[6371000, 0, 180],\n",
    "                                             [5000000, 0, 0],\n",
    "                                             [4000000, 0, 0],\n",
    "                                             [3000000, 0, 0]], material_property='vs')"
   ]
  },
  {
   "cell_type": "code",
   "execution_count": 4,
   "metadata": {},
   "outputs": [
    {
     "name": "stdout",
     "output_type": "stream",
     "text": [
      "{'EMC_S362ANI': ['VP', 'VS']}\n"
     ]
    }
   ],
   "source": [
    "with open(simulation.inparam_model, 'r') as file:\n",
    "    data = yaml.safe_load(file)\n",
    "\n",
    "material_properties = {}\n",
    "for model_dict in data['list_of_3D_models']:\n",
    "    model = list(model_dict.keys())[0]\n",
    "    material_properties[model] = []\n",
    "    for material_property in model_dict[model]['properties']:\n",
    "        material_properties[model].append(list(material_property.keys())[0])\n",
    "print(material_properties)"
   ]
  },
  {
   "cell_type": "code",
   "execution_count": 5,
   "metadata": {},
   "outputs": [],
   "source": [
    "model_3d = nc.Dataset('S362ANI_percent.nc', 'r')\n",
    "# Get the depth, latitude, and longitude arrays\n",
    "depth = model_3d.variables['depth'][:]\n",
    "radii = (6371 - depth) * 1e3\n",
    "latitude = model_3d.variables['latitude'][:]\n",
    "longitude = model_3d.variables['longitude'][:]\n",
    "\n",
    "# Get the 'dvs' data\n",
    "dvs_data = model_3d.variables['dvs'][:]\n"
   ]
  },
  {
   "cell_type": "code",
   "execution_count": 6,
   "metadata": {},
   "outputs": [
    {
     "name": "stdout",
     "output_type": "stream",
     "text": [
      "6346000.0 -90.0 -180.0\n",
      "-0.2925\n"
     ]
    }
   ],
   "source": [
    "i, j, k = 0, 0, 0\n",
    "print(radii[i], latitude[j], longitude[k])\n",
    "print(dvs_data[i, j, k])"
   ]
  },
  {
   "cell_type": "code",
   "execution_count": 7,
   "metadata": {},
   "outputs": [
    {
     "name": "stdout",
     "output_type": "stream",
     "text": [
      "6321000.0 -90.0 -180.0\n",
      "0.4691\n"
     ]
    }
   ],
   "source": [
    "i, j, k = 1, 0, 0\n",
    "print(radii[i], latitude[j], longitude[k])\n",
    "print(dvs_data[i, j, k])"
   ]
  },
  {
   "cell_type": "code",
   "execution_count": 8,
   "metadata": {},
   "outputs": [],
   "source": [
    "# Define the point where you want to interpolate\n",
    "point = np.array([3481000, -90, -180])  # Replace with your actual depth, latitude, and longitude"
   ]
  },
  {
   "cell_type": "code",
   "execution_count": 9,
   "metadata": {},
   "outputs": [
    {
     "name": "stdout",
     "output_type": "stream",
     "text": [
      "1.168\n"
     ]
    }
   ],
   "source": [
    "# Create a 3D mesh grid\n",
    "radii_grid, latitude_grid, longitude_grid = np.meshgrid(radii, latitude, longitude, indexing='ij')\n",
    "\n",
    "# Calculate the Euclidean distance between the given point and all points in the mesh\n",
    "distances = np.sqrt((radii_grid - point[0])**2 + (latitude_grid - point[1])**2 + (longitude_grid - point[2])**2)\n",
    "\n",
    "# Find the indices of the point with the smallest distance\n",
    "closest_point_indices = np.unravel_index(np.argmin(distances), distances.shape)\n",
    "\n",
    "# Get the 'dvs' value at the closest point\n",
    "closest_dvs_value = dvs_data[closest_point_indices]\n",
    "\n",
    "print(closest_dvs_value)"
   ]
  },
  {
   "cell_type": "code",
   "execution_count": 10,
   "metadata": {},
   "outputs": [
    {
     "name": "stdout",
     "output_type": "stream",
     "text": [
      "1.1679999828338623\n"
     ]
    }
   ],
   "source": [
    "def extrapolate_3d(point, radii, latitude, longitude, dvs_data):\n",
    "    # Create interp1d objects for each dimension\n",
    "    radii_interpolator = interp1d(radii, dvs_data, axis=0, fill_value=\"extrapolate\")\n",
    "    latitude_interpolator = interp1d(latitude, radii_interpolator(point[0]), axis=0, fill_value=\"extrapolate\")\n",
    "    longitude_interpolator = interp1d(longitude, latitude_interpolator(point[1]), axis=0, fill_value=\"extrapolate\")\n",
    "\n",
    "    # Return the interpolated and extrapolated value\n",
    "    return longitude_interpolator(point[2])\n",
    "\n",
    "# Interpolate and extrapolate the 'dvs' value at the point\n",
    "dvs_at_point = extrapolate_3d(point, radii, latitude, longitude, dvs_data)\n",
    "\n",
    "print(dvs_at_point)"
   ]
  }
 ],
 "metadata": {
  "kernelspec": {
   "display_name": "axikernels_test",
   "language": "python",
   "name": "python3"
  },
  "language_info": {
   "codemirror_mode": {
    "name": "ipython",
    "version": 3
   },
   "file_extension": ".py",
   "mimetype": "text/x-python",
   "name": "python",
   "nbconvert_exporter": "python",
   "pygments_lexer": "ipython3",
   "version": "3.12.2"
  }
 },
 "nbformat": 4,
 "nbformat_minor": 2
}
