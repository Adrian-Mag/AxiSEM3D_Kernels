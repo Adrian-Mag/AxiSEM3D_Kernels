{
 "cells": [
  {
   "cell_type": "code",
   "execution_count": 26,
   "metadata": {},
   "outputs": [],
   "source": [
    "from axikernels.core.handlers.element_output import ElementOutput\n",
    "import matplotlib.pyplot as plt"
   ]
  },
  {
   "cell_type": "code",
   "execution_count": 27,
   "metadata": {},
   "outputs": [],
   "source": [
    "a = ElementOutput('data/EXAMPLE_FORWARD_iso/output/elements')\n",
    "b = ElementOutput('data/EXAMPLE_3D_element/output/elements')"
   ]
  },
  {
   "cell_type": "code",
   "execution_count": 28,
   "metadata": {},
   "outputs": [],
   "source": [
    "points = [[6371000, 0, 50]]"
   ]
  },
  {
   "cell_type": "code",
   "execution_count": 32,
   "metadata": {},
   "outputs": [
    {
     "name": "stderr",
     "output_type": "stream",
     "text": [
      "QObject: Cannot create children for a parent that is in a different thread.\n",
      "(Parent is QApplication(0x7f2f0db77660), parent's thread is QThread(0x7f2f0db6e3c0), current thread is QThread(0x559b89ebb030)\n",
      "Loading and interpolating: 100%|██████████| 1/1 [00:00<00:00, 334.37point/s]\n",
      "Loading and interpolating: 100%|██████████| 1/1 [00:00<00:00, 503.76point/s]\n"
     ]
    },
    {
     "ename": "",
     "evalue": "",
     "output_type": "error",
     "traceback": [
      "\u001b[1;31mThe Kernel crashed while executing code in the current cell or a previous cell. \n",
      "\u001b[1;31mPlease review the code in the cell(s) to identify a possible cause of the failure. \n",
      "\u001b[1;31mClick <a href='https://aka.ms/vscodeJupyterKernelCrash'>here</a> for more info. \n",
      "\u001b[1;31mView Jupyter <a href='command:jupyter.viewOutput'>log</a> for further details."
     ]
    }
   ],
   "source": [
    "A = a.load_data(points=points, channels=['UZ'])\n",
    "B = b.load_data(points=points, channels=['UZ'])\n",
    "plt.plot(A[0][0])\n",
    "plt.plot(B[0][0])\n",
    "plt.xlim([400, 600])\n",
    "plt.show()"
   ]
  }
 ],
 "metadata": {
  "kernelspec": {
   "display_name": "axikernels_test",
   "language": "python",
   "name": "python3"
  },
  "language_info": {
   "codemirror_mode": {
    "name": "ipython",
    "version": 3
   },
   "file_extension": ".py",
   "mimetype": "text/x-python",
   "name": "python",
   "nbconvert_exporter": "python",
   "pygments_lexer": "ipython3",
   "version": "3.12.2"
  }
 },
 "nbformat": 4,
 "nbformat_minor": 2
}
