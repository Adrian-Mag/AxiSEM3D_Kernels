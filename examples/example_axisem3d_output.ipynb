{
 "cells": [
  {
   "cell_type": "markdown",
   "metadata": {},
   "source": [
    "# AxiSEM3DOutput\n",
    "\n",
    "This class holds general information about the simulation outputs and inputs. In short, it holds:\n",
    "- File structure of the output\n",
    "- Paths to the inparam files\n",
    "- Base model as a dictionary\n",
    "\n",
    "The class is a parent for the Station and Element classes"
   ]
  },
  {
   "cell_type": "code",
   "execution_count": 1,
   "metadata": {},
   "outputs": [],
   "source": [
    "from axikernels.core.handlers import axisem3d_output"
   ]
  },
  {
   "cell_type": "markdown",
   "metadata": {},
   "source": [
    "In the examples/data directory we have a simple 1D AxiSEM3D simulation. We can create an AxiSEM3DOutput instance using its path:"
   ]
  },
  {
   "cell_type": "code",
   "execution_count": 2,
   "metadata": {},
   "outputs": [],
   "source": [
    "simulation = axisem3d_output.AxiSEM3DOutput('data/NORMAL_FAULT_20KM')"
   ]
  },
  {
   "cell_type": "markdown",
   "metadata": {},
   "source": [
    "Using the .outputs property we can see that this simulation did not have any \"elements\" outputs, but it had one \"stations\" output. The path to that output is given in the dictionary. The \"obspyfied\" key refers to wether this AxiSEM3D output has been parsed into a obspy friendly format (in this case it has not been)."
   ]
  },
  {
   "cell_type": "code",
   "execution_count": 3,
   "metadata": {},
   "outputs": [
    {
     "data": {
      "text/plain": [
       "{'elements': {},\n",
       " 'stations': {'Station_grid': {'path': 'data/NORMAL_FAULT_20KM/output/stations/Station_grid',\n",
       "   'obspyfied': None}}}"
      ]
     },
     "execution_count": 3,
     "metadata": {},
     "output_type": "execute_result"
    }
   ],
   "source": [
    "simulation.outputs"
   ]
  },
  {
   "cell_type": "markdown",
   "metadata": {},
   "source": [
    "Every AxiSEM3D simulation uses a base model of the Earth (or Mars, or local region, etc ...), even though the user might not be aware of this. The basemodel file (.bm file) is used when generating a mesh, that is later fed to AxiSEM3D for carying out the wave propagation. This .bm file contains information about the material structure of the wave propagation domain (vp and vs values, locations of discontinuities, etc...). The correct handling of the AxiSEM3D output has to take into account this file, which is why we require the user to place the .bm file in the input directory alongside the other inparam files. The example given here contains this file, and its contents are memorized as an attribute of the AxiSEM3DOutput instance:"
   ]
  },
  {
   "cell_type": "code",
   "execution_count": 4,
   "metadata": {},
   "outputs": [
    {
     "data": {
      "text/plain": [
       "{'type': 'axisem3d',\n",
       " 'NAME': 'homogenous_cart',\n",
       " 'MODEL_TYPE': 'poly',\n",
       " 'ANELASTIC': 'T',\n",
       " 'REFERENCE_FREQUENCY': 1.0,\n",
       " 'ANISOTROPIC': 'F',\n",
       " 'NREGIONS': 2.0,\n",
       " 'DISCONTINUITIES': [6371000.0, 0.0],\n",
       " 'MAX_POLY_DEG': 3.0,\n",
       " 'SCALE': 1000.0,\n",
       " 'UNITS': 'km',\n",
       " 'RHO': [10000.0],\n",
       " 'VP': [5000.0],\n",
       " 'VS': [4000.0],\n",
       " 'QKAPPA': [57827.0],\n",
       " 'QMU': [600.0],\n",
       " 'R': [6371000.0, 0.0]}"
      ]
     },
     "execution_count": 4,
     "metadata": {},
     "output_type": "execute_result"
    }
   ],
   "source": [
    "simulation.base_model"
   ]
  },
  {
   "cell_type": "markdown",
   "metadata": {},
   "source": [
    "If needed, the user also has quick access to the radius of the simulation domain (assuming spherical mesh/global simulation)"
   ]
  },
  {
   "cell_type": "code",
   "execution_count": 5,
   "metadata": {},
   "outputs": [
    {
     "data": {
      "text/plain": [
       "6371000.0"
      ]
     },
     "execution_count": 5,
     "metadata": {},
     "output_type": "execute_result"
    }
   ],
   "source": [
    "simulation.Domain_Radius"
   ]
  },
  {
   "cell_type": "markdown",
   "metadata": {},
   "source": [
    "For now, every aspect of this package works under the assumption that the user runs global simulations using a spherical mesh, thereofre only global basemodels are acceptable. Extending the code to local simulations is the next step. \n",
    "\n",
    "Besides the structure of the wavefield domain, the simulation also requires informaiton about the source. This information is found in the \"inparam.source.yaml\", but it is not in a format compatible with obspy. Obspy uses \"catalogues\" to handle sources. The AxiSEM3DOutput instance takes the \"inparam.source.yaml\" file and transforms it into a very basic \"obspy catalogue\" that is then saved in the input directory of the simulation. To access the source in the form of a obspy catalogue, use the \".catalogue\" property:"
   ]
  },
  {
   "cell_type": "code",
   "execution_count": 6,
   "metadata": {},
   "outputs": [
    {
     "data": {
      "text/plain": [
       "Event:\t1970-01-01T00:00:00.000000Z |  +0.000,   +0.000 | manual\n",
       "\n",
       "\t      resource_id: ResourceIdentifier(id=\"smi:local/f8c17fc3-2601-4198-a620-a56b78490eb8\")\n",
       "\t             ---------\n",
       "\t focal_mechanisms: 1 Elements\n",
       "\t          origins: 1 Elements"
      ]
     },
     "execution_count": 6,
     "metadata": {},
     "output_type": "execute_result"
    }
   ],
   "source": [
    "simulation.catalogue"
   ]
  },
  {
   "cell_type": "markdown",
   "metadata": {},
   "source": [
    "Once in an Obspy format, the user can use the vast set of functionalities of Obspy to handle the information. "
   ]
  }
 ],
 "metadata": {
  "kernelspec": {
   "display_name": "axisem3d",
   "language": "python",
   "name": "python3"
  },
  "language_info": {
   "codemirror_mode": {
    "name": "ipython",
    "version": 3
   },
   "file_extension": ".py",
   "mimetype": "text/x-python",
   "name": "python",
   "nbconvert_exporter": "python",
   "pygments_lexer": "ipython3",
   "version": "3.12.3"
  }
 },
 "nbformat": 4,
 "nbformat_minor": 2
}
