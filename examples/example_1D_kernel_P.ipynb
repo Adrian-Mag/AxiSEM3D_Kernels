{
 "cells": [
  {
   "cell_type": "code",
   "execution_count": 1,
   "metadata": {},
   "outputs": [
    {
     "name": "stderr",
     "output_type": "stream",
     "text": [
      "QStandardPaths: XDG_RUNTIME_DIR not set, defaulting to '/tmp/runtime-adrian'\n"
     ]
    }
   ],
   "source": [
    "from axikernels.core.handlers import element_output\n",
    "from axikernels.core.kernels import objective_function, kernel\n",
    "from axikernels.aux import mesher\n",
    "import numpy as np\n",
    "import matplotlib.pyplot as plt\n",
    "from matplotlib.ticker import MultipleLocator"
   ]
  },
  {
   "cell_type": "markdown",
   "metadata": {},
   "source": [
    "# Sensitivity kernel based on 1D background Earth model\n",
    "\n",
    "In this notebook we will compute a simple P wave sensitivity kernel (banana doughnut).\n",
    "\n",
    "## Run forward simulation \n",
    "\n",
    "The first step is to set up a forward simulation with element output:\n",
    "\n",
    "1. We use an already existing mesh suitable for 50s period simulations based on the prem isotropic and elastic model (prem_iso_elastic_50s.e). \n",
    "2. For the inparam.nr.yaml we just need to make sure to use a constant nr=5 in the whole domain since we are doing a 1D simulation (this is where the speed-up happens compared to other full 3D wave solvers).\n",
    "3. For the source we can use whatever we like. In this case I used an explosion source. \n",
    "4. Finally, in the inparam.output.yaml we will put 1 element group for the mantle, 1 for the outer core, and 1 for the inner core. Even though the simulation runs using 16 GLL points on each element, we will output only 9 to save some disk space. \n",
    "5. Run axisem3d (see at the end details about computational costs)\n",
    "\n",
    "After running the simulation, we create an *ElementOutput* object to hold the simulation information."
   ]
  },
  {
   "cell_type": "code",
   "execution_count": 3,
   "metadata": {},
   "outputs": [],
   "source": [
    "# forward_simulation = element_output.ElementOutput(path_to_element_output='data/1D_KERNEL_EXAMPLE/output/elements')"
   ]
  },
  {
   "cell_type": "markdown",
   "metadata": {},
   "source": [
    "## Run Backward simulation\n",
    "\n",
    "The next step depends on what kind of objective function we want. The most popoular objective function is:\n",
    "$$\n",
    "\\chi = \\frac{1}{2}\\mathcal{T}^2\n",
    "$$\n",
    "where $\\mathcal{T}$ is the cross-correlation time shift between some observed displacement $\\bm{u}(m;\\bm{r}_0,t)$ (based on the real or a synthetic earth model $m$) and the forward displacement $\\bm{u}_0(m_0;\\bm{r}_0,t)$ at the same receiver location $\\bm{r}_0$ (computed at the reference Earth $m_0$). We will use this objective as well:"
   ]
  },
  {
   "cell_type": "code",
   "execution_count": 4,
   "metadata": {},
   "outputs": [],
   "source": [
    "# time_shift_objective = objective_function.XObjectiveFunction(forward_simulation)"
   ]
  },
  {
   "cell_type": "markdown",
   "metadata": {},
   "source": [
    "The backward field is computed over the same mesh as the forward field, the only difference is the source, which for the backward simulation is given by:\n",
    "$$\n",
    "f^{\\dagger} = \\frac{\\mathcal{T} W[\\dot{\\bm{u}}] }{\\left| W[\\dot{\\bm{u}}] \\right|^2_2}\n",
    "$$\n",
    "Here $\\dot{\\bm{u}}$ is the time derivative of the forward displacement field evaluated at the location of the receiver. $W$ is the operator that represents \"time windowing\", which is needed if we want to isolate a certain phase. Mathematically, the backward field would be computed by solving the same wave equation as for the forward simulation but backwards in time and with $f^{\\dagger}$ replacing the earthquake source. \n",
    "\n",
    "The *.compute_backward_field()* method of our XObjectiveFunction instance will:\n",
    "1. Create a new simulation directory for the backward simulation \n",
    "2. Create an adjoint source and save it in the input directory of the backward simulation directory as three STF functions.\n",
    "3. Run the backward simulation\n",
    "\n",
    "This method needs the following inputs:\n",
    "1. Time shift $\\mathcal{T}$ in seconds\n",
    "2. The location of the reciever (in form [radius, latitude, longitude]) in meters and degrees.\n",
    "3. Left and right time limits (in seconds) of the window containing the desired phase \n",
    "4. The number of cores to be used for the AxiSEM3D simulation\n",
    "5. The channel on which we observe the forward wavefield at the receiver.\n",
    "\n",
    "In this case we will isolate a P wave at 50 degrees distance from the source. "
   ]
  },
  {
   "cell_type": "code",
   "execution_count": 5,
   "metadata": {},
   "outputs": [
    {
     "data": {
      "text/plain": [
       "\" receiver_point = [6371000, 0, 50]\\nwindow = [530-25, 530+25]\\ntrace = forward_simulation.load_data(receiver_point, channels=['UZ'])\\n\\nplt.figure(figsize=(20, 5))\\n\\n# Increase line width and change color\\nplt.plot(forward_simulation.element_groups_info['mantle']['metadata']['data_time'],\\n         trace[0][0], color='black', linewidth=2)\\n\\nplt.xlabel('Time [s]', fontsize=14)\\nplt.ylabel('Amplitude', fontsize=14)\\n\\n# Add vertical bars at the ends of the window with labels\\nplt.axvline(x=window[0], color='blue', linestyle='--')\\nplt.axvline(x=window[1], color='blue', linestyle='--')\\n\\n# Set y-ticks to be multiples of a base value\\nbase = 0.0005  # Change this to the desired base value\\nplt.gca().yaxis.set_major_locator(MultipleLocator(base))\\n\\n# Increase tick size\\nplt.tick_params(axis='both', which='major', labelsize=12)\\n\\n# Add grid\\nplt.grid(True, linestyle='--', alpha=0.6)\\n\\n# Add title\\nplt.title('UZ', fontsize=16)\\nplt.savefig('window_3D_P.png')\\nplt.show() \""
      ]
     },
     "execution_count": 5,
     "metadata": {},
     "output_type": "execute_result"
    }
   ],
   "source": [
    "\"\"\" receiver_point = [6371000, 0, 50]\n",
    "window = [530-25, 530+25]\n",
    "trace = forward_simulation.load_data(receiver_point, channels=['UZ'])\n",
    "\n",
    "plt.figure(figsize=(20, 5))\n",
    "\n",
    "# Increase line width and change color\n",
    "plt.plot(forward_simulation.element_groups_info['mantle']['metadata']['data_time'],\n",
    "         trace[0][0], color='black', linewidth=2)\n",
    "\n",
    "plt.xlabel('Time [s]', fontsize=14)\n",
    "plt.ylabel('Amplitude', fontsize=14)\n",
    "\n",
    "# Add vertical bars at the ends of the window with labels\n",
    "plt.axvline(x=window[0], color='blue', linestyle='--')\n",
    "plt.axvline(x=window[1], color='blue', linestyle='--')\n",
    "\n",
    "# Set y-ticks to be multiples of a base value\n",
    "base = 0.0005  # Change this to the desired base value\n",
    "plt.gca().yaxis.set_major_locator(MultipleLocator(base))\n",
    "\n",
    "# Increase tick size\n",
    "plt.tick_params(axis='both', which='major', labelsize=12)\n",
    "\n",
    "# Add grid\n",
    "plt.grid(True, linestyle='--', alpha=0.6)\n",
    "\n",
    "# Add title\n",
    "plt.title('UZ', fontsize=16)\n",
    "plt.savefig('window_3D_P.png')\n",
    "plt.show() \"\"\""
   ]
  },
  {
   "cell_type": "code",
   "execution_count": 6,
   "metadata": {},
   "outputs": [
    {
     "data": {
      "text/plain": [
       "\" %matplotlib inline\\ntime_shift_objective.compute_backward_field(tau=2, receiver_point=receiver_point,\\n                                             window=window, cores=16, channel = 'UZ')\\nbackward_simulation = element_output.ElementOutput(path_to_element_output='data/backward_1D_KERNEL_EXAMPLE/output/elements') \""
      ]
     },
     "execution_count": 6,
     "metadata": {},
     "output_type": "execute_result"
    }
   ],
   "source": [
    "\"\"\" %matplotlib inline\n",
    "time_shift_objective.compute_backward_field(tau=2, receiver_point=receiver_point,\n",
    "                                             window=window, cores=16, channel = 'UZ')\n",
    "backward_simulation = element_output.ElementOutput(path_to_element_output='data/backward_1D_KERNEL_EXAMPLE/output/elements') \"\"\""
   ]
  },
  {
   "cell_type": "markdown",
   "metadata": {},
   "source": [
    "Now we should see a new directory called \"backward_1D_KERNEL_EXAMPLE_P\". We can visualize both the forward and backward wavefield (Z and R components only, since T is 0) using an animation"
   ]
  },
  {
   "cell_type": "code",
   "execution_count": 7,
   "metadata": {},
   "outputs": [
    {
     "data": {
      "text/plain": [
       "\" forward_simulation.animation([6371000, 0, 0], [6371000, 0, 50], channels=['UZ', 'UR'],\\n                             resolution=300, domains=[[3480000, 6371000, -np.pi/2, np.pi/2]])\\n\\nbackward_simulation.animation([6371000, 0, 0], [6371000, 0, 50], channels=['UZ', 'UR'],\\n                             resolution=300, domains=[[3480000, 6371000, -np.pi/2, np.pi/2]])\\n \""
      ]
     },
     "execution_count": 7,
     "metadata": {},
     "output_type": "execute_result"
    }
   ],
   "source": [
    "\"\"\" forward_simulation.animation([6371000, 0, 0], [6371000, 0, 50], channels=['UZ', 'UR'],\n",
    "                             resolution=300, domains=[[3480000, 6371000, -np.pi/2, np.pi/2]])\n",
    "\n",
    "backward_simulation.animation([6371000, 0, 0], [6371000, 0, 50], channels=['UZ', 'UR'],\n",
    "                             resolution=300, domains=[[3480000, 6371000, -np.pi/2, np.pi/2]])\n",
    " \"\"\""
   ]
  },
  {
   "cell_type": "markdown",
   "metadata": {},
   "source": [
    "We will load this simulation and use it as an argument together with the foward simulation to form a \"Kernel\" object. While the XObjectiveFunction class deals with creating the adjoint wavefield, the Kernel class deals with computing the actual kernels."
   ]
  },
  {
   "cell_type": "code",
   "execution_count": 8,
   "metadata": {},
   "outputs": [
    {
     "data": {
      "text/plain": [
       "' ker = kernel.Kernel(forward_simulation, backward_simulation) '"
      ]
     },
     "execution_count": 8,
     "metadata": {},
     "output_type": "execute_result"
    }
   ],
   "source": [
    "\"\"\" ker = kernel.Kernel(forward_simulation, backward_simulation) \"\"\""
   ]
  },
  {
   "cell_type": "markdown",
   "metadata": {},
   "source": [
    "With the forward and backward data at hand, we can compute volumetric or geometric sensitivity kernels. Volumetric sensitivity kernels can be visualized both on a slice through the Earth, or on a spherical shell centered on the Earth's center. \n",
    "\n",
    "In the *mesher* module there are two classes that deal with slices and shells. The *SliceMesh* class takes in the following arguments:\n",
    "1. **point1, point2**: these are in the [rad, lat lon] format where radius is in the same units as used in the basemodel (ideal to stick with SI units everywhere) and the latitude and longitude are by default in degree (but passing the argument *degrees=False* will switch to radians). These two points, together with the Earth's center, determine a great circle disk/slice through the Earth on which the kernel will be computed.\n",
    "2. **domains**: this has the form [[rad_min, rad_max, theta_min, theta_max],[rad_min, rad_max, theta_min, theta_max],...]. By default the slice contains the full great circle disk, but if we want, we can restrict it to one or more regions described by a min and max radius, and a min and max angle from point1 in the direction towards point2. Obviously, the kernel can only be computed in regions where we have an output from the simulation. For example, if in the inparam.output.yaml file we specified only the mantle region as an element group, then the kernel will be computed only in that region intersected with the regions specified in the domains argument.\n",
    "3. **resolution**: The mesh points on the slice are placed in a uniform grid of size *resolution* X *resolution*\n"
   ]
  },
  {
   "cell_type": "code",
   "execution_count": 9,
   "metadata": {},
   "outputs": [
    {
     "data": {
      "text/plain": [
       "' source_location = [forward_simulation.Domain_Radius - forward_simulation.source_depth,\\n                    forward_simulation.source_lat,\\n                    forward_simulation.source_lon]\\nreceiver_point = [6371000, 0, 50]\\ndomains = [[4000000, 6371000, np.rad2deg(-30), np.rad2deg(80)]]\\nslice = mesher.SliceMesh(point1=source_location,\\n                     point2=receiver_point,\\n                     domains=domains,\\n                     resolution=300)\\n '"
      ]
     },
     "execution_count": 9,
     "metadata": {},
     "output_type": "execute_result"
    }
   ],
   "source": [
    "\"\"\" source_location = [forward_simulation.Domain_Radius - forward_simulation.source_depth,\n",
    "                    forward_simulation.source_lat,\n",
    "                    forward_simulation.source_lon]\n",
    "receiver_point = [6371000, 0, 50]\n",
    "domains = [[4000000, 6371000, np.rad2deg(-30), np.rad2deg(80)]]\n",
    "slice = mesher.SliceMesh(point1=source_location,\n",
    "                     point2=receiver_point,\n",
    "                     domains=domains,\n",
    "                     resolution=300)\n",
    " \"\"\""
   ]
  },
  {
   "cell_type": "markdown",
   "metadata": {},
   "source": [
    "When the mesh is created, the coordinates of the points found within the specified domains will be saved in the *.points* attribute. Thse points can then be passed to any *.evaluate_...() * method to compute the sensitivity at those points. Currently there are the following volumetric kernel methods:\n",
    "\n",
    "---------key-------method------------------\n",
    "- 'rho_0': self.evaluate_rho_0,\n",
    "- 'lambda': self.evaluate_lambda,\n",
    "- 'mu': self.evaluate_mu,\n",
    "- 'rho': self.evaluate_rho,\n",
    "- 'vp': self.evaluate_vp,\n",
    "- 'vs': self.evaluate_vs,\n",
    "\n",
    "So let's say we want to compute the vp sensitivity kernel on the mesh computed above (decrease the resolution or restrict your domains if you want a faster computation):"
   ]
  },
  {
   "cell_type": "code",
   "execution_count": 10,
   "metadata": {},
   "outputs": [
    {
     "data": {
      "text/plain": [
       "'\\n# or alternatively using:\\nsensitivity_kernel = ker.kernel_types[parameter](slice.points) '"
      ]
     },
     "execution_count": 10,
     "metadata": {},
     "output_type": "execute_result"
    }
   ],
   "source": [
    "parameter = 'vp'\n",
    "#sensitivity_kernel_slice = ker.evaluate_vp(slice.points)\n",
    "\"\"\"\n",
    "# or alternatively using:\n",
    "sensitivity_kernel = ker.kernel_types[parameter](slice.points) \"\"\""
   ]
  },
  {
   "cell_type": "markdown",
   "metadata": {},
   "source": [
    "The resulting sensitivity data can be then passed in the *.plot_on_mesh()* method of the mesh to have it plotted. *high_range* stretches the sensitivity values to show the weaker signals in the kernel. This is often needed since the sensitivity kernels take very large values near the source."
   ]
  },
  {
   "cell_type": "markdown",
   "metadata": {},
   "source": [
    "Lastly, we can save this data using:"
   ]
  },
  {
   "cell_type": "code",
   "execution_count": 11,
   "metadata": {},
   "outputs": [],
   "source": [
    "filename = '_vp_1D_50s_P'\n",
    "#slice.save_data(data=sensitivity_kernel_slice, filename=filename)"
   ]
  },
  {
   "cell_type": "markdown",
   "metadata": {},
   "source": [
    "The data that has been saved in this manner can be easily plotted later by creating a mesh with the saved file:"
   ]
  },
  {
   "cell_type": "code",
   "execution_count": 12,
   "metadata": {},
   "outputs": [
    {
     "ename": "ImportError",
     "evalue": "Missing optional dependency 'pytables'.  Use pip or conda to install pytables.",
     "output_type": "error",
     "traceback": [
      "\u001b[0;31m---------------------------------------------------------------------------\u001b[0m",
      "\u001b[0;31mModuleNotFoundError\u001b[0m                       Traceback (most recent call last)",
      "File \u001b[0;32m~/miniconda3/envs/axikernels/lib/python3.12/site-packages/pandas/compat/_optional.py:135\u001b[0m, in \u001b[0;36mimport_optional_dependency\u001b[0;34m(name, extra, errors, min_version)\u001b[0m\n\u001b[1;32m    134\u001b[0m \u001b[38;5;28;01mtry\u001b[39;00m:\n\u001b[0;32m--> 135\u001b[0m     module \u001b[38;5;241m=\u001b[39m \u001b[43mimportlib\u001b[49m\u001b[38;5;241;43m.\u001b[39;49m\u001b[43mimport_module\u001b[49m\u001b[43m(\u001b[49m\u001b[43mname\u001b[49m\u001b[43m)\u001b[49m\n\u001b[1;32m    136\u001b[0m \u001b[38;5;28;01mexcept\u001b[39;00m \u001b[38;5;167;01mImportError\u001b[39;00m:\n",
      "File \u001b[0;32m~/miniconda3/envs/axikernels/lib/python3.12/importlib/__init__.py:90\u001b[0m, in \u001b[0;36mimport_module\u001b[0;34m(name, package)\u001b[0m\n\u001b[1;32m     89\u001b[0m         level \u001b[38;5;241m+\u001b[39m\u001b[38;5;241m=\u001b[39m \u001b[38;5;241m1\u001b[39m\n\u001b[0;32m---> 90\u001b[0m \u001b[38;5;28;01mreturn\u001b[39;00m \u001b[43m_bootstrap\u001b[49m\u001b[38;5;241;43m.\u001b[39;49m\u001b[43m_gcd_import\u001b[49m\u001b[43m(\u001b[49m\u001b[43mname\u001b[49m\u001b[43m[\u001b[49m\u001b[43mlevel\u001b[49m\u001b[43m:\u001b[49m\u001b[43m]\u001b[49m\u001b[43m,\u001b[49m\u001b[43m \u001b[49m\u001b[43mpackage\u001b[49m\u001b[43m,\u001b[49m\u001b[43m \u001b[49m\u001b[43mlevel\u001b[49m\u001b[43m)\u001b[49m\n",
      "File \u001b[0;32m<frozen importlib._bootstrap>:1387\u001b[0m, in \u001b[0;36m_gcd_import\u001b[0;34m(name, package, level)\u001b[0m\n",
      "File \u001b[0;32m<frozen importlib._bootstrap>:1360\u001b[0m, in \u001b[0;36m_find_and_load\u001b[0;34m(name, import_)\u001b[0m\n",
      "File \u001b[0;32m<frozen importlib._bootstrap>:1324\u001b[0m, in \u001b[0;36m_find_and_load_unlocked\u001b[0;34m(name, import_)\u001b[0m\n",
      "\u001b[0;31mModuleNotFoundError\u001b[0m: No module named 'tables'",
      "\nDuring handling of the above exception, another exception occurred:\n",
      "\u001b[0;31mImportError\u001b[0m                               Traceback (most recent call last)",
      "Cell \u001b[0;32mIn[12], line 2\u001b[0m\n\u001b[1;32m      1\u001b[0m get_ipython()\u001b[38;5;241m.\u001b[39mrun_line_magic(\u001b[38;5;124m'\u001b[39m\u001b[38;5;124mmatplotlib\u001b[39m\u001b[38;5;124m'\u001b[39m, \u001b[38;5;124m'\u001b[39m\u001b[38;5;124mqt\u001b[39m\u001b[38;5;124m'\u001b[39m)\n\u001b[0;32m----> 2\u001b[0m saved_mesh \u001b[38;5;241m=\u001b[39m \u001b[43mmesher\u001b[49m\u001b[38;5;241;43m.\u001b[39;49m\u001b[43mSliceMesh\u001b[49m\u001b[43m(\u001b[49m\u001b[43mfilename\u001b[49m\u001b[43m \u001b[49m\u001b[38;5;241;43m+\u001b[39;49m\u001b[43m \u001b[49m\u001b[38;5;124;43m'\u001b[39;49m\u001b[38;5;124;43m.h5\u001b[39;49m\u001b[38;5;124;43m'\u001b[39;49m\u001b[43m)\u001b[49m\n\u001b[1;32m      3\u001b[0m saved_mesh\u001b[38;5;241m.\u001b[39mplot_on_mesh(cbar_range\u001b[38;5;241m=\u001b[39m[\u001b[38;5;241m-\u001b[39m\u001b[38;5;241m5e-20\u001b[39m, \u001b[38;5;241m5e-20\u001b[39m], filename\u001b[38;5;241m=\u001b[39mfilename)\n",
      "File \u001b[0;32m~/PhD/AxiSEM3D/AxiSEM3D_Kernels/axikernels/aux/mesher.py:50\u001b[0m, in \u001b[0;36mSliceMesh.__init__\u001b[0;34m(self, data_frame_path, point1, point2, domains, resolution, coord_in, coord_out, degrees)\u001b[0m\n\u001b[1;32m     48\u001b[0m \u001b[38;5;28mself\u001b[39m\u001b[38;5;241m.\u001b[39mtype \u001b[38;5;241m=\u001b[39m \u001b[38;5;124m'\u001b[39m\u001b[38;5;124mslice\u001b[39m\u001b[38;5;124m'\u001b[39m\n\u001b[1;32m     49\u001b[0m \u001b[38;5;28;01mif\u001b[39;00m data_frame_path \u001b[38;5;129;01mis\u001b[39;00m \u001b[38;5;129;01mnot\u001b[39;00m \u001b[38;5;28;01mNone\u001b[39;00m:\n\u001b[0;32m---> 50\u001b[0m     data_frame \u001b[38;5;241m=\u001b[39m \u001b[43mpd\u001b[49m\u001b[38;5;241;43m.\u001b[39;49m\u001b[43mread_hdf\u001b[49m\u001b[43m(\u001b[49m\u001b[43mdata_frame_path\u001b[49m\u001b[43m,\u001b[49m\u001b[43m \u001b[49m\u001b[38;5;124;43m'\u001b[39;49m\u001b[38;5;124;43mdf\u001b[39;49m\u001b[38;5;124;43m'\u001b[39;49m\u001b[43m)\u001b[49m\n\u001b[1;32m     51\u001b[0m     metadata \u001b[38;5;241m=\u001b[39m pd\u001b[38;5;241m.\u001b[39mread_hdf(data_frame_path, \u001b[38;5;124m'\u001b[39m\u001b[38;5;124mmetadata\u001b[39m\u001b[38;5;124m'\u001b[39m)\n\u001b[1;32m     52\u001b[0m     \u001b[38;5;28mself\u001b[39m\u001b[38;5;241m.\u001b[39mdata \u001b[38;5;241m=\u001b[39m data_frame[\u001b[38;5;124m'\u001b[39m\u001b[38;5;124mdata\u001b[39m\u001b[38;5;124m'\u001b[39m]\u001b[38;5;241m.\u001b[39mvalues\n",
      "File \u001b[0;32m~/miniconda3/envs/axikernels/lib/python3.12/site-packages/pandas/io/pytables.py:426\u001b[0m, in \u001b[0;36mread_hdf\u001b[0;34m(path_or_buf, key, mode, errors, where, start, stop, columns, iterator, chunksize, **kwargs)\u001b[0m\n\u001b[1;32m    423\u001b[0m \u001b[38;5;28;01mif\u001b[39;00m \u001b[38;5;129;01mnot\u001b[39;00m exists:\n\u001b[1;32m    424\u001b[0m     \u001b[38;5;28;01mraise\u001b[39;00m \u001b[38;5;167;01mFileNotFoundError\u001b[39;00m(\u001b[38;5;124mf\u001b[39m\u001b[38;5;124m\"\u001b[39m\u001b[38;5;124mFile \u001b[39m\u001b[38;5;132;01m{\u001b[39;00mpath_or_buf\u001b[38;5;132;01m}\u001b[39;00m\u001b[38;5;124m does not exist\u001b[39m\u001b[38;5;124m\"\u001b[39m)\n\u001b[0;32m--> 426\u001b[0m store \u001b[38;5;241m=\u001b[39m \u001b[43mHDFStore\u001b[49m\u001b[43m(\u001b[49m\u001b[43mpath_or_buf\u001b[49m\u001b[43m,\u001b[49m\u001b[43m \u001b[49m\u001b[43mmode\u001b[49m\u001b[38;5;241;43m=\u001b[39;49m\u001b[43mmode\u001b[49m\u001b[43m,\u001b[49m\u001b[43m \u001b[49m\u001b[43merrors\u001b[49m\u001b[38;5;241;43m=\u001b[39;49m\u001b[43merrors\u001b[49m\u001b[43m,\u001b[49m\u001b[43m \u001b[49m\u001b[38;5;241;43m*\u001b[39;49m\u001b[38;5;241;43m*\u001b[39;49m\u001b[43mkwargs\u001b[49m\u001b[43m)\u001b[49m\n\u001b[1;32m    427\u001b[0m \u001b[38;5;66;03m# can't auto open/close if we are using an iterator\u001b[39;00m\n\u001b[1;32m    428\u001b[0m \u001b[38;5;66;03m# so delegate to the iterator\u001b[39;00m\n\u001b[1;32m    429\u001b[0m auto_close \u001b[38;5;241m=\u001b[39m \u001b[38;5;28;01mTrue\u001b[39;00m\n",
      "File \u001b[0;32m~/miniconda3/envs/axikernels/lib/python3.12/site-packages/pandas/io/pytables.py:566\u001b[0m, in \u001b[0;36mHDFStore.__init__\u001b[0;34m(self, path, mode, complevel, complib, fletcher32, **kwargs)\u001b[0m\n\u001b[1;32m    563\u001b[0m \u001b[38;5;28;01mif\u001b[39;00m \u001b[38;5;124m\"\u001b[39m\u001b[38;5;124mformat\u001b[39m\u001b[38;5;124m\"\u001b[39m \u001b[38;5;129;01min\u001b[39;00m kwargs:\n\u001b[1;32m    564\u001b[0m     \u001b[38;5;28;01mraise\u001b[39;00m \u001b[38;5;167;01mValueError\u001b[39;00m(\u001b[38;5;124m\"\u001b[39m\u001b[38;5;124mformat is not a defined argument for HDFStore\u001b[39m\u001b[38;5;124m\"\u001b[39m)\n\u001b[0;32m--> 566\u001b[0m tables \u001b[38;5;241m=\u001b[39m \u001b[43mimport_optional_dependency\u001b[49m\u001b[43m(\u001b[49m\u001b[38;5;124;43m\"\u001b[39;49m\u001b[38;5;124;43mtables\u001b[39;49m\u001b[38;5;124;43m\"\u001b[39;49m\u001b[43m)\u001b[49m\n\u001b[1;32m    568\u001b[0m \u001b[38;5;28;01mif\u001b[39;00m complib \u001b[38;5;129;01mis\u001b[39;00m \u001b[38;5;129;01mnot\u001b[39;00m \u001b[38;5;28;01mNone\u001b[39;00m \u001b[38;5;129;01mand\u001b[39;00m complib \u001b[38;5;129;01mnot\u001b[39;00m \u001b[38;5;129;01min\u001b[39;00m tables\u001b[38;5;241m.\u001b[39mfilters\u001b[38;5;241m.\u001b[39mall_complibs:\n\u001b[1;32m    569\u001b[0m     \u001b[38;5;28;01mraise\u001b[39;00m \u001b[38;5;167;01mValueError\u001b[39;00m(\n\u001b[1;32m    570\u001b[0m         \u001b[38;5;124mf\u001b[39m\u001b[38;5;124m\"\u001b[39m\u001b[38;5;124mcomplib only supports \u001b[39m\u001b[38;5;132;01m{\u001b[39;00mtables\u001b[38;5;241m.\u001b[39mfilters\u001b[38;5;241m.\u001b[39mall_complibs\u001b[38;5;132;01m}\u001b[39;00m\u001b[38;5;124m compression.\u001b[39m\u001b[38;5;124m\"\u001b[39m\n\u001b[1;32m    571\u001b[0m     )\n",
      "File \u001b[0;32m~/miniconda3/envs/axikernels/lib/python3.12/site-packages/pandas/compat/_optional.py:138\u001b[0m, in \u001b[0;36mimport_optional_dependency\u001b[0;34m(name, extra, errors, min_version)\u001b[0m\n\u001b[1;32m    136\u001b[0m \u001b[38;5;28;01mexcept\u001b[39;00m \u001b[38;5;167;01mImportError\u001b[39;00m:\n\u001b[1;32m    137\u001b[0m     \u001b[38;5;28;01mif\u001b[39;00m errors \u001b[38;5;241m==\u001b[39m \u001b[38;5;124m\"\u001b[39m\u001b[38;5;124mraise\u001b[39m\u001b[38;5;124m\"\u001b[39m:\n\u001b[0;32m--> 138\u001b[0m         \u001b[38;5;28;01mraise\u001b[39;00m \u001b[38;5;167;01mImportError\u001b[39;00m(msg)\n\u001b[1;32m    139\u001b[0m     \u001b[38;5;28;01mreturn\u001b[39;00m \u001b[38;5;28;01mNone\u001b[39;00m\n\u001b[1;32m    141\u001b[0m \u001b[38;5;66;03m# Handle submodules: if we have submodule, grab parent module from sys.modules\u001b[39;00m\n",
      "\u001b[0;31mImportError\u001b[0m: Missing optional dependency 'pytables'.  Use pip or conda to install pytables."
     ]
    }
   ],
   "source": [
    "%matplotlib qt\n",
    "saved_mesh = mesher.SliceMesh(filename + '.h5')\n",
    "saved_mesh.plot_on_mesh(cbar_range=[-5e-20, 5e-20], filename=filename)"
   ]
  },
  {
   "cell_type": "markdown",
   "metadata": {},
   "source": [
    "Alternatively, we can compute the sensitivity kernel on a spherical shell. The *SphereMesh* class produces a spherical fibonacci mesh with 2n points and a radius given by the user"
   ]
  },
  {
   "cell_type": "code",
   "execution_count": null,
   "metadata": {},
   "outputs": [
    {
     "ename": "",
     "evalue": "",
     "output_type": "error",
     "traceback": [
      "\u001b[1;31mThe Kernel crashed while executing code in the current cell or a previous cell. \n",
      "\u001b[1;31mPlease review the code in the cell(s) to identify a possible cause of the failure. \n",
      "\u001b[1;31mClick <a href='https://aka.ms/vscodeJupyterKernelCrash'>here</a> for more info. \n",
      "\u001b[1;31mView Jupyter <a href='command:jupyter.viewOutput'>log</a> for further details."
     ]
    }
   ],
   "source": [
    "shell = mesher.SphereMesh(radius=5000000, n=50000, domain=[-20, 20, -10, 60])\n",
    "shell.plot()"
   ]
  },
  {
   "cell_type": "markdown",
   "metadata": {},
   "source": [
    "The points saved in this mesher are simply [lat, lon] in radians, so we must add the radius to obtain the full points. "
   ]
  },
  {
   "cell_type": "code",
   "execution_count": null,
   "metadata": {},
   "outputs": [
    {
     "name": "stderr",
     "output_type": "stream",
     "text": [
      "Loading and interpolating: 100%|██████████| 66505/66505 [01:28<00:00, 749.92point/s]\n",
      "Loading and interpolating: 100%|██████████| 66505/66505 [01:15<00:00, 886.50point/s] \n"
     ]
    }
   ],
   "source": [
    "points = np.insert(np.array(shell.points), 0, shell.radius, axis=1)\n",
    "sensitivity_kernel_shell = ker.evaluate_vp(points)"
   ]
  },
  {
   "cell_type": "markdown",
   "metadata": {},
   "source": [
    "Then we can plot the kernel on the shell"
   ]
  },
  {
   "cell_type": "code",
   "execution_count": null,
   "metadata": {},
   "outputs": [
    {
     "ename": "NameError",
     "evalue": "name 'shell' is not defined",
     "output_type": "error",
     "traceback": [
      "\u001b[0;31m---------------------------------------------------------------------------\u001b[0m",
      "\u001b[0;31mNameError\u001b[0m                                 Traceback (most recent call last)",
      "Cell \u001b[0;32mIn[14], line 1\u001b[0m\n\u001b[0;32m----> 1\u001b[0m \u001b[43mshell\u001b[49m\u001b[38;5;241m.\u001b[39mplot_on_mesh(data\u001b[38;5;241m=\u001b[39msensitivity_kernel_shell, cbar_range\u001b[38;5;241m=\u001b[39m[\u001b[38;5;241m-\u001b[39m\u001b[38;5;241m1e-20\u001b[39m, \u001b[38;5;241m1e-20\u001b[39m])\n",
      "\u001b[0;31mNameError\u001b[0m: name 'shell' is not defined"
     ]
    }
   ],
   "source": [
    "shell.plot_on_mesh(data=sensitivity_kernel_shell, cbar_range=[-1e-20, 1e-20])"
   ]
  },
  {
   "cell_type": "markdown",
   "metadata": {},
   "source": [
    "And save it"
   ]
  },
  {
   "cell_type": "code",
   "execution_count": null,
   "metadata": {},
   "outputs": [
    {
     "name": "stderr",
     "output_type": "stream",
     "text": [
      "/disks/data/PhD/AxiSEM3D_Kernels/axikernels/aux/mesher.py:345: PerformanceWarning: \n",
      "your performance may suffer as PyTables will pickle object types that it cannot\n",
      "map directly to c-types [inferred_type->mixed-integer,key->values] [items->None]\n",
      "\n",
      "  metadata.to_hdf(filename + '.h5', key='metadata', mode='a')\n"
     ]
    }
   ],
   "source": [
    "shell.save_data(data=sensitivity_kernel_shell, filename='shell_vp_3D_30s_P')"
   ]
  },
  {
   "cell_type": "markdown",
   "metadata": {},
   "source": [
    "And reload it"
   ]
  },
  {
   "cell_type": "code",
   "execution_count": null,
   "metadata": {},
   "outputs": [],
   "source": [
    "new_mesh = mesher.SphereMesh('shell_vp_3D_30s_P' + '.h5')\n",
    "new_mesh.plot_on_mesh(remove_outliers=True, cbar_range=[-5e-20, 5e-20])"
   ]
  },
  {
   "cell_type": "code",
   "execution_count": null,
   "metadata": {},
   "outputs": [
    {
     "name": "stderr",
     "output_type": "stream",
     "text": [
      "Loading and interpolating: 100%|██████████| 66505/66505 [01:38<00:00, 677.21point/s]\n",
      "Loading and interpolating: 100%|██████████| 66505/66505 [01:26<00:00, 771.31point/s]\n",
      "Loading and interpolating: 100%|██████████| 66505/66505 [01:36<00:00, 690.25point/s]\n",
      "Loading and interpolating: 100%|██████████| 66505/66505 [01:26<00:00, 771.96point/s]\n",
      "Loading and interpolating: 100%|██████████| 66505/66505 [01:25<00:00, 777.20point/s]\n",
      "Loading and interpolating: 100%|██████████| 66505/66505 [01:26<00:00, 768.78point/s]\n",
      "Loading and interpolating: 100%|██████████| 66505/66505 [01:42<00:00, 647.67point/s]\n",
      "Loading and interpolating: 100%|██████████| 66505/66505 [01:27<00:00, 759.56point/s]\n",
      "Loading and interpolating: 100%|██████████| 66505/66505 [01:22<00:00, 807.79point/s]\n",
      "Loading and interpolating: 100%|██████████| 66505/66505 [01:13<00:00, 905.12point/s] \n",
      "Loading and interpolating: 100%|██████████| 66505/66505 [01:38<00:00, 674.63point/s]\n",
      "Loading and interpolating: 100%|██████████| 66505/66505 [01:27<00:00, 756.07point/s]\n",
      "Loading and interpolating: 100%|██████████| 66505/66505 [03:51<00:00, 287.47point/s]\n",
      "Loading and interpolating: 100%|██████████| 66505/66505 [03:07<00:00, 354.69point/s]\n",
      "Loading and interpolating: 100%|██████████| 66505/66505 [01:21<00:00, 816.28point/s]\n",
      "Loading and interpolating: 100%|██████████| 66505/66505 [01:13<00:00, 903.75point/s] \n",
      "Loading and interpolating: 100%|██████████| 66505/66505 [01:37<00:00, 683.17point/s]\n",
      "Loading and interpolating: 100%|██████████| 66505/66505 [01:26<00:00, 768.86point/s]\n",
      "Loading and interpolating: 100%|██████████| 66505/66505 [03:39<00:00, 302.75point/s]\n",
      "Loading and interpolating: 100%|██████████| 66505/66505 [03:07<00:00, 354.60point/s]\n"
     ]
    }
   ],
   "source": [
    "sensitivity_kernel_shell_400km = ker.evaluate_Kd(shell.points, 5971000)"
   ]
  },
  {
   "cell_type": "code",
   "execution_count": null,
   "metadata": {},
   "outputs": [],
   "source": [
    "shell.plot_on_mesh(data=sensitivity_kernel_shell_400km, cbar_range=[-1e-17, 1e-17])"
   ]
  },
  {
   "cell_type": "code",
   "execution_count": null,
   "metadata": {},
   "outputs": [
    {
     "name": "stdout",
     "output_type": "stream",
     "text": [
      "_vp_3D_30s_P\n"
     ]
    }
   ],
   "source": [
    "print(filename)"
   ]
  },
  {
   "cell_type": "code",
   "execution_count": null,
   "metadata": {},
   "outputs": [
    {
     "name": "stderr",
     "output_type": "stream",
     "text": [
      "/disks/data/PhD/AxiSEM3D_Kernels/axikernels/aux/mesher.py:345: PerformanceWarning: \n",
      "your performance may suffer as PyTables will pickle object types that it cannot\n",
      "map directly to c-types [inferred_type->mixed-integer,key->values] [items->None]\n",
      "\n",
      "  metadata.to_hdf(filename + '.h5', key='metadata', mode='a')\n"
     ]
    }
   ],
   "source": [
    "shell.save_data(data=sensitivity_kernel_shell_400km, filename='shell_Kd_3D_30s_P')"
   ]
  },
  {
   "cell_type": "code",
   "execution_count": null,
   "metadata": {},
   "outputs": [
    {
     "ename": "KeyError",
     "evalue": "'n'",
     "output_type": "error",
     "traceback": [
      "\u001b[0;31m---------------------------------------------------------------------------\u001b[0m",
      "\u001b[0;31mKeyError\u001b[0m                                  Traceback (most recent call last)",
      "File \u001b[0;32m~/anaconda3/envs/axikernels_test/lib/python3.12/site-packages/pandas/core/indexes/base.py:3805\u001b[0m, in \u001b[0;36mIndex.get_loc\u001b[0;34m(self, key)\u001b[0m\n\u001b[1;32m   3804\u001b[0m \u001b[38;5;28;01mtry\u001b[39;00m:\n\u001b[0;32m-> 3805\u001b[0m     \u001b[38;5;28;01mreturn\u001b[39;00m \u001b[38;5;28;43mself\u001b[39;49m\u001b[38;5;241;43m.\u001b[39;49m\u001b[43m_engine\u001b[49m\u001b[38;5;241;43m.\u001b[39;49m\u001b[43mget_loc\u001b[49m\u001b[43m(\u001b[49m\u001b[43mcasted_key\u001b[49m\u001b[43m)\u001b[49m\n\u001b[1;32m   3806\u001b[0m \u001b[38;5;28;01mexcept\u001b[39;00m \u001b[38;5;167;01mKeyError\u001b[39;00m \u001b[38;5;28;01mas\u001b[39;00m err:\n",
      "File \u001b[0;32mindex.pyx:167\u001b[0m, in \u001b[0;36mpandas._libs.index.IndexEngine.get_loc\u001b[0;34m()\u001b[0m\n",
      "File \u001b[0;32mindex.pyx:196\u001b[0m, in \u001b[0;36mpandas._libs.index.IndexEngine.get_loc\u001b[0;34m()\u001b[0m\n",
      "File \u001b[0;32mpandas/_libs/hashtable_class_helper.pxi:7081\u001b[0m, in \u001b[0;36mpandas._libs.hashtable.PyObjectHashTable.get_item\u001b[0;34m()\u001b[0m\n",
      "File \u001b[0;32mpandas/_libs/hashtable_class_helper.pxi:7089\u001b[0m, in \u001b[0;36mpandas._libs.hashtable.PyObjectHashTable.get_item\u001b[0;34m()\u001b[0m\n",
      "\u001b[0;31mKeyError\u001b[0m: 'n'",
      "\nThe above exception was the direct cause of the following exception:\n",
      "\u001b[0;31mKeyError\u001b[0m                                  Traceback (most recent call last)",
      "Cell \u001b[0;32mIn[21], line 1\u001b[0m\n\u001b[0;32m----> 1\u001b[0m new_mesh \u001b[38;5;241m=\u001b[39m \u001b[43mmesher\u001b[49m\u001b[38;5;241;43m.\u001b[39;49m\u001b[43mSphereMesh\u001b[49m\u001b[43m(\u001b[49m\u001b[43mfilename\u001b[49m\u001b[43m \u001b[49m\u001b[38;5;241;43m+\u001b[39;49m\u001b[43m \u001b[49m\u001b[38;5;124;43m'\u001b[39;49m\u001b[38;5;124;43m.h5\u001b[39;49m\u001b[38;5;124;43m'\u001b[39;49m\u001b[43m)\u001b[49m\n\u001b[1;32m      2\u001b[0m new_mesh\u001b[38;5;241m.\u001b[39mplot_on_mesh(remove_outliers\u001b[38;5;241m=\u001b[39m\u001b[38;5;28;01mTrue\u001b[39;00m, cbar_range\u001b[38;5;241m=\u001b[39m[\u001b[38;5;241m-\u001b[39m\u001b[38;5;241m5e-17\u001b[39m, \u001b[38;5;241m5e-17\u001b[39m])\n",
      "File \u001b[0;32m/disks/data/PhD/AxiSEM3D_Kernels/axikernels/aux/mesher.py:241\u001b[0m, in \u001b[0;36mSphereMesh.__init__\u001b[0;34m(self, data_frame_path, radius, n, domain, degrees)\u001b[0m\n\u001b[1;32m    239\u001b[0m data_frame \u001b[38;5;241m=\u001b[39m pd\u001b[38;5;241m.\u001b[39mread_hdf(data_frame_path, \u001b[38;5;124m'\u001b[39m\u001b[38;5;124mdf\u001b[39m\u001b[38;5;124m'\u001b[39m)\n\u001b[1;32m    240\u001b[0m metadata \u001b[38;5;241m=\u001b[39m pd\u001b[38;5;241m.\u001b[39mread_hdf(data_frame_path, \u001b[38;5;124m'\u001b[39m\u001b[38;5;124mmetadata\u001b[39m\u001b[38;5;124m'\u001b[39m)\n\u001b[0;32m--> 241\u001b[0m \u001b[38;5;28mself\u001b[39m\u001b[38;5;241m.\u001b[39mn \u001b[38;5;241m=\u001b[39m \u001b[43mmetadata\u001b[49m\u001b[43m[\u001b[49m\u001b[38;5;124;43m'\u001b[39;49m\u001b[38;5;124;43mn\u001b[39;49m\u001b[38;5;124;43m'\u001b[39;49m\u001b[43m]\u001b[49m\n\u001b[1;32m    242\u001b[0m \u001b[38;5;28mself\u001b[39m\u001b[38;5;241m.\u001b[39mdata \u001b[38;5;241m=\u001b[39m data_frame[\u001b[38;5;124m'\u001b[39m\u001b[38;5;124mdata\u001b[39m\u001b[38;5;124m'\u001b[39m]\u001b[38;5;241m.\u001b[39mvalues\n\u001b[1;32m    243\u001b[0m \u001b[38;5;28mself\u001b[39m\u001b[38;5;241m.\u001b[39mradius \u001b[38;5;241m=\u001b[39m metadata[\u001b[38;5;124m'\u001b[39m\u001b[38;5;124mradius\u001b[39m\u001b[38;5;124m'\u001b[39m]\n",
      "File \u001b[0;32m~/anaconda3/envs/axikernels_test/lib/python3.12/site-packages/pandas/core/series.py:1121\u001b[0m, in \u001b[0;36mSeries.__getitem__\u001b[0;34m(self, key)\u001b[0m\n\u001b[1;32m   1118\u001b[0m     \u001b[38;5;28;01mreturn\u001b[39;00m \u001b[38;5;28mself\u001b[39m\u001b[38;5;241m.\u001b[39m_values[key]\n\u001b[1;32m   1120\u001b[0m \u001b[38;5;28;01melif\u001b[39;00m key_is_scalar:\n\u001b[0;32m-> 1121\u001b[0m     \u001b[38;5;28;01mreturn\u001b[39;00m \u001b[38;5;28;43mself\u001b[39;49m\u001b[38;5;241;43m.\u001b[39;49m\u001b[43m_get_value\u001b[49m\u001b[43m(\u001b[49m\u001b[43mkey\u001b[49m\u001b[43m)\u001b[49m\n\u001b[1;32m   1123\u001b[0m \u001b[38;5;66;03m# Convert generator to list before going through hashable part\u001b[39;00m\n\u001b[1;32m   1124\u001b[0m \u001b[38;5;66;03m# (We will iterate through the generator there to check for slices)\u001b[39;00m\n\u001b[1;32m   1125\u001b[0m \u001b[38;5;28;01mif\u001b[39;00m is_iterator(key):\n",
      "File \u001b[0;32m~/anaconda3/envs/axikernels_test/lib/python3.12/site-packages/pandas/core/series.py:1237\u001b[0m, in \u001b[0;36mSeries._get_value\u001b[0;34m(self, label, takeable)\u001b[0m\n\u001b[1;32m   1234\u001b[0m     \u001b[38;5;28;01mreturn\u001b[39;00m \u001b[38;5;28mself\u001b[39m\u001b[38;5;241m.\u001b[39m_values[label]\n\u001b[1;32m   1236\u001b[0m \u001b[38;5;66;03m# Similar to Index.get_value, but we do not fall back to positional\u001b[39;00m\n\u001b[0;32m-> 1237\u001b[0m loc \u001b[38;5;241m=\u001b[39m \u001b[38;5;28;43mself\u001b[39;49m\u001b[38;5;241;43m.\u001b[39;49m\u001b[43mindex\u001b[49m\u001b[38;5;241;43m.\u001b[39;49m\u001b[43mget_loc\u001b[49m\u001b[43m(\u001b[49m\u001b[43mlabel\u001b[49m\u001b[43m)\u001b[49m\n\u001b[1;32m   1239\u001b[0m \u001b[38;5;28;01mif\u001b[39;00m is_integer(loc):\n\u001b[1;32m   1240\u001b[0m     \u001b[38;5;28;01mreturn\u001b[39;00m \u001b[38;5;28mself\u001b[39m\u001b[38;5;241m.\u001b[39m_values[loc]\n",
      "File \u001b[0;32m~/anaconda3/envs/axikernels_test/lib/python3.12/site-packages/pandas/core/indexes/base.py:3812\u001b[0m, in \u001b[0;36mIndex.get_loc\u001b[0;34m(self, key)\u001b[0m\n\u001b[1;32m   3807\u001b[0m     \u001b[38;5;28;01mif\u001b[39;00m \u001b[38;5;28misinstance\u001b[39m(casted_key, \u001b[38;5;28mslice\u001b[39m) \u001b[38;5;129;01mor\u001b[39;00m (\n\u001b[1;32m   3808\u001b[0m         \u001b[38;5;28misinstance\u001b[39m(casted_key, abc\u001b[38;5;241m.\u001b[39mIterable)\n\u001b[1;32m   3809\u001b[0m         \u001b[38;5;129;01mand\u001b[39;00m \u001b[38;5;28many\u001b[39m(\u001b[38;5;28misinstance\u001b[39m(x, \u001b[38;5;28mslice\u001b[39m) \u001b[38;5;28;01mfor\u001b[39;00m x \u001b[38;5;129;01min\u001b[39;00m casted_key)\n\u001b[1;32m   3810\u001b[0m     ):\n\u001b[1;32m   3811\u001b[0m         \u001b[38;5;28;01mraise\u001b[39;00m InvalidIndexError(key)\n\u001b[0;32m-> 3812\u001b[0m     \u001b[38;5;28;01mraise\u001b[39;00m \u001b[38;5;167;01mKeyError\u001b[39;00m(key) \u001b[38;5;28;01mfrom\u001b[39;00m \u001b[38;5;21;01merr\u001b[39;00m\n\u001b[1;32m   3813\u001b[0m \u001b[38;5;28;01mexcept\u001b[39;00m \u001b[38;5;167;01mTypeError\u001b[39;00m:\n\u001b[1;32m   3814\u001b[0m     \u001b[38;5;66;03m# If we have a listlike key, _check_indexing_error will raise\u001b[39;00m\n\u001b[1;32m   3815\u001b[0m     \u001b[38;5;66;03m#  InvalidIndexError. Otherwise we fall through and re-raise\u001b[39;00m\n\u001b[1;32m   3816\u001b[0m     \u001b[38;5;66;03m#  the TypeError.\u001b[39;00m\n\u001b[1;32m   3817\u001b[0m     \u001b[38;5;28mself\u001b[39m\u001b[38;5;241m.\u001b[39m_check_indexing_error(key)\n",
      "\u001b[0;31mKeyError\u001b[0m: 'n'"
     ]
    }
   ],
   "source": [
    "new_mesh = mesher.SphereMesh(filename + '.h5')\n",
    "new_mesh.plot_on_mesh(remove_outliers=True, cbar_range=[-5e-17, 5e-17])"
   ]
  },
  {
   "cell_type": "markdown",
   "metadata": {},
   "source": [
    "## Simulation costs\n",
    "\n",
    "### 1D_KERNEL_EXAMPLE\n",
    "- Max RAM usage ~ 12 GB\n",
    "- Disk usage ~ 5.8 GB\n",
    "- Time ~ 0.0576 CPUh/ (13s on high end cpu)\n",
    "\n",
    "### backward_1D_KERNEL_EXAMPLE\n",
    "- Max RAM usage ~ 10 GB\n",
    "- Disk usage ~ 4.2 GB\n",
    "- Time ~ 0.044 CPUh/ (10s on high end cpu)"
   ]
  }
 ],
 "metadata": {
  "kernelspec": {
   "display_name": "axikernels_test",
   "language": "python",
   "name": "python3"
  },
  "language_info": {
   "codemirror_mode": {
    "name": "ipython",
    "version": 3
   },
   "file_extension": ".py",
   "mimetype": "text/x-python",
   "name": "python",
   "nbconvert_exporter": "python",
   "pygments_lexer": "ipython3",
   "version": "3.12.4"
  }
 },
 "nbformat": 4,
 "nbformat_minor": 2
}
